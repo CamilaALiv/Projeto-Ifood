{
  "nbformat": 4,
  "nbformat_minor": 0,
  "metadata": {
    "colab": {
      "provenance": [],
      "mount_file_id": "1CEv3QpqwvjocppgjJRdfpAdzmFV3yitW",
      "authorship_tag": "ABX9TyPlL7h9wDs3g3/X9+uzppGH",
      "include_colab_link": true
    },
    "kernelspec": {
      "name": "python3",
      "display_name": "Python 3"
    },
    "language_info": {
      "name": "python"
    }
  },
  "cells": [
    {
      "cell_type": "markdown",
      "metadata": {
        "id": "view-in-github",
        "colab_type": "text"
      },
      "source": [
        "<a href=\"https://colab.research.google.com/github/CamilaALiv/Projeto-Ifood/blob/main/Projeto_Ifood.ipynb\" target=\"_parent\"><img src=\"https://colab.research.google.com/assets/colab-badge.svg\" alt=\"Open In Colab\"/></a>"
      ]
    },
    {
      "cell_type": "markdown",
      "source": [
        "# **Projeto Ifood - Análise Exploratória e Estratégias de Marketing**"
      ],
      "metadata": {
        "id": "Ut7F4E4ExWsx"
      }
    },
    {
      "cell_type": "markdown",
      "source": [
        "Esse projeto foi realizado como atividade sugerida do curso de Estatística do Básico ao Avançado - EBA, e está dividido em três partes:\n",
        "\n",
        "Primeiro a análise exploratória do dataset que contém dados de perfil de clientes da plataforma Ifood e seus gastos na plataforma. Na segunda parte, vamos solucionar uma demanda da equipe de marketing, que deseja saber para qual segmento de clientes direcionar uma campanha. Por último, saberemos se os clientes que já registraram alguma reclamação na plataforma, tem hábitos de consumo diferentes dos clientes que não registraram nenhuma reclamação (deixaram de comprar na plataforma).\n",
        "\n",
        "O conjunto de dados é composto por clientes da empresa Ifood com dados sobre:\n",
        "\n",
        "- Perfis de clientes\n",
        "- Preferências do produto\n",
        "- Sucessos/fracassos da campanha\n",
        "- Desempenho do canal\n",
        "\n",
        "Vamos iniciar com uma análise exploratória dos dados para conhecer melhor o perfil dos clientes e quais insights podemos gerar com esses dados.\n"
      ],
      "metadata": {
        "id": "mJd49DCHxFrb"
      }
    },
    {
      "cell_type": "code",
      "source": [
        "# importando as bibliotecas\n",
        "import pandas as pd\n",
        "import numpy as np\n",
        "import seaborn as sns\n",
        "import matplotlib.pyplot as plt\n",
        "from google.colab import drive\n",
        "drive.mount('/content/drive')\n",
        "\n"
      ],
      "metadata": {
        "id": "hZ9cYsyny1u9",
        "colab": {
          "base_uri": "https://localhost:8080/"
        },
        "outputId": "9b4e7874-4675-4d4e-b04c-15e93ae986a0"
      },
      "execution_count": null,
      "outputs": [
        {
          "output_type": "stream",
          "name": "stdout",
          "text": [
            "Drive already mounted at /content/drive; to attempt to forcibly remount, call drive.mount(\"/content/drive\", force_remount=True).\n"
          ]
        }
      ]
    },
    {
      "cell_type": "code",
      "source": [
        "# lendo o arquivo csv que contém os dados:\n",
        "df = pd.read_csv('/content/drive/MyDrive/Dados/mkt_data.csv', index_col=0) # usando a primeira coluna do df como o index"
      ],
      "metadata": {
        "id": "nO30k0Q_zb6Q"
      },
      "execution_count": null,
      "outputs": []
    },
    {
      "cell_type": "markdown",
      "source": [
        "## Análise Exploratória"
      ],
      "metadata": {
        "id": "ZN-S8ufcZ8zS"
      }
    },
    {
      "cell_type": "markdown",
      "source": [
        "Verificando as primeiras linhas do nosso dataset:"
      ],
      "metadata": {
        "id": "t-EBx8Y7aKCE"
      }
    },
    {
      "cell_type": "code",
      "source": [
        "df.head()"
      ],
      "metadata": {
        "colab": {
          "base_uri": "https://localhost:8080/",
          "height": 256
        },
        "id": "ESFRc2j0zqrD",
        "outputId": "062565df-9a01-48bd-cf10-c797c1a6337e"
      },
      "execution_count": null,
      "outputs": [
        {
          "output_type": "execute_result",
          "data": {
            "text/plain": [
              "    Income  Kidhome  Teenhome  Recency  MntWines  MntFruits  MntMeatProducts  \\\n",
              "0  58138.0        0         0       58       635         88              546   \n",
              "1  46344.0        1         1       38        11          1                6   \n",
              "2  71613.0        0         0       26       426         49              127   \n",
              "3  26646.0        1         0       26        11          4               20   \n",
              "4  58293.0        1         0       94       173         43              118   \n",
              "\n",
              "   MntFishProducts  MntSweetProducts  MntGoldProds  ...  education_Graduation  \\\n",
              "0              172                88            88  ...                   3.0   \n",
              "1                2                 1             6  ...                   3.0   \n",
              "2              111                21            42  ...                   3.0   \n",
              "3               10                 3             5  ...                   3.0   \n",
              "4               46                27            15  ...                   NaN   \n",
              "\n",
              "   education_Master  education_PhD  MntTotal  MntRegularProds  \\\n",
              "0               NaN            NaN      1529             1441   \n",
              "1               NaN            NaN        21               15   \n",
              "2               NaN            NaN       734              692   \n",
              "3               NaN            NaN        48               43   \n",
              "4               NaN            5.0       407              392   \n",
              "\n",
              "   AcceptedCmpOverall  marital_status  education_level  kids  expenses  \n",
              "0                   0          Single       Graduation     0      1529  \n",
              "1                   0          Single       Graduation     2        21  \n",
              "2                   0        Together       Graduation     0       734  \n",
              "3                   0        Together       Graduation     1        48  \n",
              "4                   0         Married              PhD     1       407  \n",
              "\n",
              "[5 rows x 43 columns]"
            ],
            "text/html": [
              "\n",
              "  <div id=\"df-7d7c360f-21bd-4bb2-b267-34e6e7fe0beb\" class=\"colab-df-container\">\n",
              "    <div>\n",
              "<style scoped>\n",
              "    .dataframe tbody tr th:only-of-type {\n",
              "        vertical-align: middle;\n",
              "    }\n",
              "\n",
              "    .dataframe tbody tr th {\n",
              "        vertical-align: top;\n",
              "    }\n",
              "\n",
              "    .dataframe thead th {\n",
              "        text-align: right;\n",
              "    }\n",
              "</style>\n",
              "<table border=\"1\" class=\"dataframe\">\n",
              "  <thead>\n",
              "    <tr style=\"text-align: right;\">\n",
              "      <th></th>\n",
              "      <th>Income</th>\n",
              "      <th>Kidhome</th>\n",
              "      <th>Teenhome</th>\n",
              "      <th>Recency</th>\n",
              "      <th>MntWines</th>\n",
              "      <th>MntFruits</th>\n",
              "      <th>MntMeatProducts</th>\n",
              "      <th>MntFishProducts</th>\n",
              "      <th>MntSweetProducts</th>\n",
              "      <th>MntGoldProds</th>\n",
              "      <th>...</th>\n",
              "      <th>education_Graduation</th>\n",
              "      <th>education_Master</th>\n",
              "      <th>education_PhD</th>\n",
              "      <th>MntTotal</th>\n",
              "      <th>MntRegularProds</th>\n",
              "      <th>AcceptedCmpOverall</th>\n",
              "      <th>marital_status</th>\n",
              "      <th>education_level</th>\n",
              "      <th>kids</th>\n",
              "      <th>expenses</th>\n",
              "    </tr>\n",
              "  </thead>\n",
              "  <tbody>\n",
              "    <tr>\n",
              "      <th>0</th>\n",
              "      <td>58138.0</td>\n",
              "      <td>0</td>\n",
              "      <td>0</td>\n",
              "      <td>58</td>\n",
              "      <td>635</td>\n",
              "      <td>88</td>\n",
              "      <td>546</td>\n",
              "      <td>172</td>\n",
              "      <td>88</td>\n",
              "      <td>88</td>\n",
              "      <td>...</td>\n",
              "      <td>3.0</td>\n",
              "      <td>NaN</td>\n",
              "      <td>NaN</td>\n",
              "      <td>1529</td>\n",
              "      <td>1441</td>\n",
              "      <td>0</td>\n",
              "      <td>Single</td>\n",
              "      <td>Graduation</td>\n",
              "      <td>0</td>\n",
              "      <td>1529</td>\n",
              "    </tr>\n",
              "    <tr>\n",
              "      <th>1</th>\n",
              "      <td>46344.0</td>\n",
              "      <td>1</td>\n",
              "      <td>1</td>\n",
              "      <td>38</td>\n",
              "      <td>11</td>\n",
              "      <td>1</td>\n",
              "      <td>6</td>\n",
              "      <td>2</td>\n",
              "      <td>1</td>\n",
              "      <td>6</td>\n",
              "      <td>...</td>\n",
              "      <td>3.0</td>\n",
              "      <td>NaN</td>\n",
              "      <td>NaN</td>\n",
              "      <td>21</td>\n",
              "      <td>15</td>\n",
              "      <td>0</td>\n",
              "      <td>Single</td>\n",
              "      <td>Graduation</td>\n",
              "      <td>2</td>\n",
              "      <td>21</td>\n",
              "    </tr>\n",
              "    <tr>\n",
              "      <th>2</th>\n",
              "      <td>71613.0</td>\n",
              "      <td>0</td>\n",
              "      <td>0</td>\n",
              "      <td>26</td>\n",
              "      <td>426</td>\n",
              "      <td>49</td>\n",
              "      <td>127</td>\n",
              "      <td>111</td>\n",
              "      <td>21</td>\n",
              "      <td>42</td>\n",
              "      <td>...</td>\n",
              "      <td>3.0</td>\n",
              "      <td>NaN</td>\n",
              "      <td>NaN</td>\n",
              "      <td>734</td>\n",
              "      <td>692</td>\n",
              "      <td>0</td>\n",
              "      <td>Together</td>\n",
              "      <td>Graduation</td>\n",
              "      <td>0</td>\n",
              "      <td>734</td>\n",
              "    </tr>\n",
              "    <tr>\n",
              "      <th>3</th>\n",
              "      <td>26646.0</td>\n",
              "      <td>1</td>\n",
              "      <td>0</td>\n",
              "      <td>26</td>\n",
              "      <td>11</td>\n",
              "      <td>4</td>\n",
              "      <td>20</td>\n",
              "      <td>10</td>\n",
              "      <td>3</td>\n",
              "      <td>5</td>\n",
              "      <td>...</td>\n",
              "      <td>3.0</td>\n",
              "      <td>NaN</td>\n",
              "      <td>NaN</td>\n",
              "      <td>48</td>\n",
              "      <td>43</td>\n",
              "      <td>0</td>\n",
              "      <td>Together</td>\n",
              "      <td>Graduation</td>\n",
              "      <td>1</td>\n",
              "      <td>48</td>\n",
              "    </tr>\n",
              "    <tr>\n",
              "      <th>4</th>\n",
              "      <td>58293.0</td>\n",
              "      <td>1</td>\n",
              "      <td>0</td>\n",
              "      <td>94</td>\n",
              "      <td>173</td>\n",
              "      <td>43</td>\n",
              "      <td>118</td>\n",
              "      <td>46</td>\n",
              "      <td>27</td>\n",
              "      <td>15</td>\n",
              "      <td>...</td>\n",
              "      <td>NaN</td>\n",
              "      <td>NaN</td>\n",
              "      <td>5.0</td>\n",
              "      <td>407</td>\n",
              "      <td>392</td>\n",
              "      <td>0</td>\n",
              "      <td>Married</td>\n",
              "      <td>PhD</td>\n",
              "      <td>1</td>\n",
              "      <td>407</td>\n",
              "    </tr>\n",
              "  </tbody>\n",
              "</table>\n",
              "<p>5 rows × 43 columns</p>\n",
              "</div>\n",
              "    <div class=\"colab-df-buttons\">\n",
              "\n",
              "  <div class=\"colab-df-container\">\n",
              "    <button class=\"colab-df-convert\" onclick=\"convertToInteractive('df-7d7c360f-21bd-4bb2-b267-34e6e7fe0beb')\"\n",
              "            title=\"Convert this dataframe to an interactive table.\"\n",
              "            style=\"display:none;\">\n",
              "\n",
              "  <svg xmlns=\"http://www.w3.org/2000/svg\" height=\"24px\" viewBox=\"0 -960 960 960\">\n",
              "    <path d=\"M120-120v-720h720v720H120Zm60-500h600v-160H180v160Zm220 220h160v-160H400v160Zm0 220h160v-160H400v160ZM180-400h160v-160H180v160Zm440 0h160v-160H620v160ZM180-180h160v-160H180v160Zm440 0h160v-160H620v160Z\"/>\n",
              "  </svg>\n",
              "    </button>\n",
              "\n",
              "  <style>\n",
              "    .colab-df-container {\n",
              "      display:flex;\n",
              "      gap: 12px;\n",
              "    }\n",
              "\n",
              "    .colab-df-convert {\n",
              "      background-color: #E8F0FE;\n",
              "      border: none;\n",
              "      border-radius: 50%;\n",
              "      cursor: pointer;\n",
              "      display: none;\n",
              "      fill: #1967D2;\n",
              "      height: 32px;\n",
              "      padding: 0 0 0 0;\n",
              "      width: 32px;\n",
              "    }\n",
              "\n",
              "    .colab-df-convert:hover {\n",
              "      background-color: #E2EBFA;\n",
              "      box-shadow: 0px 1px 2px rgba(60, 64, 67, 0.3), 0px 1px 3px 1px rgba(60, 64, 67, 0.15);\n",
              "      fill: #174EA6;\n",
              "    }\n",
              "\n",
              "    .colab-df-buttons div {\n",
              "      margin-bottom: 4px;\n",
              "    }\n",
              "\n",
              "    [theme=dark] .colab-df-convert {\n",
              "      background-color: #3B4455;\n",
              "      fill: #D2E3FC;\n",
              "    }\n",
              "\n",
              "    [theme=dark] .colab-df-convert:hover {\n",
              "      background-color: #434B5C;\n",
              "      box-shadow: 0px 1px 3px 1px rgba(0, 0, 0, 0.15);\n",
              "      filter: drop-shadow(0px 1px 2px rgba(0, 0, 0, 0.3));\n",
              "      fill: #FFFFFF;\n",
              "    }\n",
              "  </style>\n",
              "\n",
              "    <script>\n",
              "      const buttonEl =\n",
              "        document.querySelector('#df-7d7c360f-21bd-4bb2-b267-34e6e7fe0beb button.colab-df-convert');\n",
              "      buttonEl.style.display =\n",
              "        google.colab.kernel.accessAllowed ? 'block' : 'none';\n",
              "\n",
              "      async function convertToInteractive(key) {\n",
              "        const element = document.querySelector('#df-7d7c360f-21bd-4bb2-b267-34e6e7fe0beb');\n",
              "        const dataTable =\n",
              "          await google.colab.kernel.invokeFunction('convertToInteractive',\n",
              "                                                    [key], {});\n",
              "        if (!dataTable) return;\n",
              "\n",
              "        const docLinkHtml = 'Like what you see? Visit the ' +\n",
              "          '<a target=\"_blank\" href=https://colab.research.google.com/notebooks/data_table.ipynb>data table notebook</a>'\n",
              "          + ' to learn more about interactive tables.';\n",
              "        element.innerHTML = '';\n",
              "        dataTable['output_type'] = 'display_data';\n",
              "        await google.colab.output.renderOutput(dataTable, element);\n",
              "        const docLink = document.createElement('div');\n",
              "        docLink.innerHTML = docLinkHtml;\n",
              "        element.appendChild(docLink);\n",
              "      }\n",
              "    </script>\n",
              "  </div>\n",
              "\n",
              "\n",
              "<div id=\"df-73c15e69-7c7f-4cd4-b06d-792a10930454\">\n",
              "  <button class=\"colab-df-quickchart\" onclick=\"quickchart('df-73c15e69-7c7f-4cd4-b06d-792a10930454')\"\n",
              "            title=\"Suggest charts.\"\n",
              "            style=\"display:none;\">\n",
              "\n",
              "<svg xmlns=\"http://www.w3.org/2000/svg\" height=\"24px\"viewBox=\"0 0 24 24\"\n",
              "     width=\"24px\">\n",
              "    <g>\n",
              "        <path d=\"M19 3H5c-1.1 0-2 .9-2 2v14c0 1.1.9 2 2 2h14c1.1 0 2-.9 2-2V5c0-1.1-.9-2-2-2zM9 17H7v-7h2v7zm4 0h-2V7h2v10zm4 0h-2v-4h2v4z\"/>\n",
              "    </g>\n",
              "</svg>\n",
              "  </button>\n",
              "\n",
              "<style>\n",
              "  .colab-df-quickchart {\n",
              "      --bg-color: #E8F0FE;\n",
              "      --fill-color: #1967D2;\n",
              "      --hover-bg-color: #E2EBFA;\n",
              "      --hover-fill-color: #174EA6;\n",
              "      --disabled-fill-color: #AAA;\n",
              "      --disabled-bg-color: #DDD;\n",
              "  }\n",
              "\n",
              "  [theme=dark] .colab-df-quickchart {\n",
              "      --bg-color: #3B4455;\n",
              "      --fill-color: #D2E3FC;\n",
              "      --hover-bg-color: #434B5C;\n",
              "      --hover-fill-color: #FFFFFF;\n",
              "      --disabled-bg-color: #3B4455;\n",
              "      --disabled-fill-color: #666;\n",
              "  }\n",
              "\n",
              "  .colab-df-quickchart {\n",
              "    background-color: var(--bg-color);\n",
              "    border: none;\n",
              "    border-radius: 50%;\n",
              "    cursor: pointer;\n",
              "    display: none;\n",
              "    fill: var(--fill-color);\n",
              "    height: 32px;\n",
              "    padding: 0;\n",
              "    width: 32px;\n",
              "  }\n",
              "\n",
              "  .colab-df-quickchart:hover {\n",
              "    background-color: var(--hover-bg-color);\n",
              "    box-shadow: 0 1px 2px rgba(60, 64, 67, 0.3), 0 1px 3px 1px rgba(60, 64, 67, 0.15);\n",
              "    fill: var(--button-hover-fill-color);\n",
              "  }\n",
              "\n",
              "  .colab-df-quickchart-complete:disabled,\n",
              "  .colab-df-quickchart-complete:disabled:hover {\n",
              "    background-color: var(--disabled-bg-color);\n",
              "    fill: var(--disabled-fill-color);\n",
              "    box-shadow: none;\n",
              "  }\n",
              "\n",
              "  .colab-df-spinner {\n",
              "    border: 2px solid var(--fill-color);\n",
              "    border-color: transparent;\n",
              "    border-bottom-color: var(--fill-color);\n",
              "    animation:\n",
              "      spin 1s steps(1) infinite;\n",
              "  }\n",
              "\n",
              "  @keyframes spin {\n",
              "    0% {\n",
              "      border-color: transparent;\n",
              "      border-bottom-color: var(--fill-color);\n",
              "      border-left-color: var(--fill-color);\n",
              "    }\n",
              "    20% {\n",
              "      border-color: transparent;\n",
              "      border-left-color: var(--fill-color);\n",
              "      border-top-color: var(--fill-color);\n",
              "    }\n",
              "    30% {\n",
              "      border-color: transparent;\n",
              "      border-left-color: var(--fill-color);\n",
              "      border-top-color: var(--fill-color);\n",
              "      border-right-color: var(--fill-color);\n",
              "    }\n",
              "    40% {\n",
              "      border-color: transparent;\n",
              "      border-right-color: var(--fill-color);\n",
              "      border-top-color: var(--fill-color);\n",
              "    }\n",
              "    60% {\n",
              "      border-color: transparent;\n",
              "      border-right-color: var(--fill-color);\n",
              "    }\n",
              "    80% {\n",
              "      border-color: transparent;\n",
              "      border-right-color: var(--fill-color);\n",
              "      border-bottom-color: var(--fill-color);\n",
              "    }\n",
              "    90% {\n",
              "      border-color: transparent;\n",
              "      border-bottom-color: var(--fill-color);\n",
              "    }\n",
              "  }\n",
              "</style>\n",
              "\n",
              "  <script>\n",
              "    async function quickchart(key) {\n",
              "      const quickchartButtonEl =\n",
              "        document.querySelector('#' + key + ' button');\n",
              "      quickchartButtonEl.disabled = true;  // To prevent multiple clicks.\n",
              "      quickchartButtonEl.classList.add('colab-df-spinner');\n",
              "      try {\n",
              "        const charts = await google.colab.kernel.invokeFunction(\n",
              "            'suggestCharts', [key], {});\n",
              "      } catch (error) {\n",
              "        console.error('Error during call to suggestCharts:', error);\n",
              "      }\n",
              "      quickchartButtonEl.classList.remove('colab-df-spinner');\n",
              "      quickchartButtonEl.classList.add('colab-df-quickchart-complete');\n",
              "    }\n",
              "    (() => {\n",
              "      let quickchartButtonEl =\n",
              "        document.querySelector('#df-73c15e69-7c7f-4cd4-b06d-792a10930454 button');\n",
              "      quickchartButtonEl.style.display =\n",
              "        google.colab.kernel.accessAllowed ? 'block' : 'none';\n",
              "    })();\n",
              "  </script>\n",
              "</div>\n",
              "    </div>\n",
              "  </div>\n"
            ]
          },
          "metadata": {},
          "execution_count": 3
        }
      ]
    },
    {
      "cell_type": "markdown",
      "source": [
        "Verificando o tamanho do dataset (quantidade de linhas e colunas):"
      ],
      "metadata": {
        "id": "kBlWQsy1aRWB"
      }
    },
    {
      "cell_type": "code",
      "source": [
        "df.shape #Retorna quantas linhas e colunas temos no dataset"
      ],
      "metadata": {
        "id": "0Xk319Tb0CAF",
        "colab": {
          "base_uri": "https://localhost:8080/"
        },
        "outputId": "f807912b-0eb1-4b05-8abd-b9472599b494"
      },
      "execution_count": null,
      "outputs": [
        {
          "output_type": "execute_result",
          "data": {
            "text/plain": [
              "(2205, 43)"
            ]
          },
          "metadata": {},
          "execution_count": 4
        }
      ]
    },
    {
      "cell_type": "markdown",
      "source": [
        "Verificando os tipos de colunas do nosso dataset:"
      ],
      "metadata": {
        "id": "AyuAP5T50Ky2"
      }
    },
    {
      "cell_type": "code",
      "source": [
        "df.info()"
      ],
      "metadata": {
        "id": "-eTpfxng0Eg4",
        "colab": {
          "base_uri": "https://localhost:8080/"
        },
        "outputId": "e3982c33-b017-45a9-df5a-bbf1e7770df5"
      },
      "execution_count": null,
      "outputs": [
        {
          "output_type": "stream",
          "name": "stdout",
          "text": [
            "<class 'pandas.core.frame.DataFrame'>\n",
            "Int64Index: 2205 entries, 0 to 2204\n",
            "Data columns (total 43 columns):\n",
            " #   Column                Non-Null Count  Dtype  \n",
            "---  ------                --------------  -----  \n",
            " 0   Income                2205 non-null   float64\n",
            " 1   Kidhome               2205 non-null   int64  \n",
            " 2   Teenhome              2205 non-null   int64  \n",
            " 3   Recency               2205 non-null   int64  \n",
            " 4   MntWines              2205 non-null   int64  \n",
            " 5   MntFruits             2205 non-null   int64  \n",
            " 6   MntMeatProducts       2205 non-null   int64  \n",
            " 7   MntFishProducts       2205 non-null   int64  \n",
            " 8   MntSweetProducts      2205 non-null   int64  \n",
            " 9   MntGoldProds          2205 non-null   int64  \n",
            " 10  NumDealsPurchases     2205 non-null   int64  \n",
            " 11  NumWebPurchases       2205 non-null   int64  \n",
            " 12  NumCatalogPurchases   2205 non-null   int64  \n",
            " 13  NumStorePurchases     2205 non-null   int64  \n",
            " 14  NumWebVisitsMonth     2205 non-null   int64  \n",
            " 15  AcceptedCmp3          2205 non-null   int64  \n",
            " 16  AcceptedCmp4          2205 non-null   int64  \n",
            " 17  AcceptedCmp5          2205 non-null   int64  \n",
            " 18  AcceptedCmp1          2205 non-null   int64  \n",
            " 19  AcceptedCmp2          2205 non-null   int64  \n",
            " 20  Complain              2205 non-null   int64  \n",
            " 21  Z_CostContact         2205 non-null   int64  \n",
            " 22  Z_Revenue             2205 non-null   int64  \n",
            " 23  Response              2205 non-null   int64  \n",
            " 24  Age                   2205 non-null   int64  \n",
            " 25  Customer_Days         2205 non-null   int64  \n",
            " 26  marital_Divorced      230 non-null    float64\n",
            " 27  marital_Married       854 non-null    float64\n",
            " 28  marital_Single        477 non-null    float64\n",
            " 29  marital_Together      568 non-null    float64\n",
            " 30  marital_Widow         76 non-null     float64\n",
            " 31  education_2n Cycle    198 non-null    float64\n",
            " 32  education_Basic       54 non-null     float64\n",
            " 33  education_Graduation  1113 non-null   float64\n",
            " 34  education_Master      364 non-null    float64\n",
            " 35  education_PhD         476 non-null    float64\n",
            " 36  MntTotal              2205 non-null   int64  \n",
            " 37  MntRegularProds       2205 non-null   int64  \n",
            " 38  AcceptedCmpOverall    2205 non-null   int64  \n",
            " 39  marital_status        2205 non-null   object \n",
            " 40  education_level       2205 non-null   object \n",
            " 41  kids                  2205 non-null   int64  \n",
            " 42  expenses              2205 non-null   int64  \n",
            "dtypes: float64(11), int64(30), object(2)\n",
            "memory usage: 758.0+ KB\n"
          ]
        }
      ]
    },
    {
      "cell_type": "markdown",
      "source": [
        "Verificando a existência de dados duplicados:"
      ],
      "metadata": {
        "id": "09YM0Iiv34pg"
      }
    },
    {
      "cell_type": "code",
      "source": [
        "df.duplicated().value_counts() # verifica dados duplicados e conta a ocorrência deles"
      ],
      "metadata": {
        "id": "rRKJys6038o_",
        "colab": {
          "base_uri": "https://localhost:8080/"
        },
        "outputId": "87f98f65-f161-4cca-9192-f5d391f60e69"
      },
      "execution_count": null,
      "outputs": [
        {
          "output_type": "execute_result",
          "data": {
            "text/plain": [
              "False    2021\n",
              "True      184\n",
              "dtype: int64"
            ]
          },
          "metadata": {},
          "execution_count": 6
        }
      ]
    },
    {
      "cell_type": "markdown",
      "source": [
        "Excluindo os dados duplicados e verificando o tamanho do dataset após alteração:"
      ],
      "metadata": {
        "id": "Eokus6m4afGs"
      }
    },
    {
      "cell_type": "code",
      "source": [
        "df.drop_duplicates(inplace=True) # excluindo dados duplicados do nosso dataframe"
      ],
      "metadata": {
        "id": "HIoCvn6kYLDr"
      },
      "execution_count": null,
      "outputs": []
    },
    {
      "cell_type": "code",
      "source": [
        "df.shape #verificando a quantidade de linhas e colunas do dataframe após a exclusão das linhas duplicadas"
      ],
      "metadata": {
        "colab": {
          "base_uri": "https://localhost:8080/"
        },
        "id": "eOG0DTz3Zdae",
        "outputId": "1468100e-7df2-451f-d1ff-5f4fcce28072"
      },
      "execution_count": null,
      "outputs": [
        {
          "output_type": "execute_result",
          "data": {
            "text/plain": [
              "(2021, 43)"
            ]
          },
          "metadata": {},
          "execution_count": 8
        }
      ]
    },
    {
      "cell_type": "markdown",
      "source": [
        "Verificando a existência de dados nulos nessa base:"
      ],
      "metadata": {
        "id": "KzEPDDUU5eGn"
      }
    },
    {
      "cell_type": "code",
      "source": [
        "df.isnull().sum()"
      ],
      "metadata": {
        "id": "Kf90KR1R5yb8",
        "colab": {
          "base_uri": "https://localhost:8080/"
        },
        "outputId": "309fb650-2b23-4878-b67e-551c0fdba9fa"
      },
      "execution_count": null,
      "outputs": [
        {
          "output_type": "execute_result",
          "data": {
            "text/plain": [
              "Income                     0\n",
              "Kidhome                    0\n",
              "Teenhome                   0\n",
              "Recency                    0\n",
              "MntWines                   0\n",
              "MntFruits                  0\n",
              "MntMeatProducts            0\n",
              "MntFishProducts            0\n",
              "MntSweetProducts           0\n",
              "MntGoldProds               0\n",
              "NumDealsPurchases          0\n",
              "NumWebPurchases            0\n",
              "NumCatalogPurchases        0\n",
              "NumStorePurchases          0\n",
              "NumWebVisitsMonth          0\n",
              "AcceptedCmp3               0\n",
              "AcceptedCmp4               0\n",
              "AcceptedCmp5               0\n",
              "AcceptedCmp1               0\n",
              "AcceptedCmp2               0\n",
              "Complain                   0\n",
              "Z_CostContact              0\n",
              "Z_Revenue                  0\n",
              "Response                   0\n",
              "Age                        0\n",
              "Customer_Days              0\n",
              "marital_Divorced        1807\n",
              "marital_Married         1236\n",
              "marital_Single          1578\n",
              "marital_Together        1512\n",
              "marital_Widow           1951\n",
              "education_2n Cycle      1838\n",
              "education_Basic         1972\n",
              "education_Graduation    1006\n",
              "education_Master        1686\n",
              "education_PhD           1582\n",
              "MntTotal                   0\n",
              "MntRegularProds            0\n",
              "AcceptedCmpOverall         0\n",
              "marital_status             0\n",
              "education_level            0\n",
              "kids                       0\n",
              "expenses                   0\n",
              "dtype: int64"
            ]
          },
          "metadata": {},
          "execution_count": 9
        }
      ]
    },
    {
      "cell_type": "code",
      "source": [
        "df['marital_status'].unique()"
      ],
      "metadata": {
        "id": "O-YlysY252h1",
        "colab": {
          "base_uri": "https://localhost:8080/"
        },
        "outputId": "44b7550e-91b7-4c43-964a-843e759f2c3b"
      },
      "execution_count": null,
      "outputs": [
        {
          "output_type": "execute_result",
          "data": {
            "text/plain": [
              "array(['Single', 'Together', 'Married', 'Divorced', 'Widow'], dtype=object)"
            ]
          },
          "metadata": {},
          "execution_count": 10
        }
      ]
    },
    {
      "cell_type": "code",
      "source": [
        "df['education_level'].unique()"
      ],
      "metadata": {
        "id": "mDu2xfSD7mIm",
        "colab": {
          "base_uri": "https://localhost:8080/"
        },
        "outputId": "321556cd-1b80-4e67-c36b-a924c2accf94"
      },
      "execution_count": null,
      "outputs": [
        {
          "output_type": "execute_result",
          "data": {
            "text/plain": [
              "array(['Graduation', 'PhD', 'Master', 'Basic', '2n Cycle'], dtype=object)"
            ]
          },
          "metadata": {},
          "execution_count": 11
        }
      ]
    },
    {
      "cell_type": "markdown",
      "source": [
        "Verificamos que os dados nulos estão em colunas que apresentam os dados das colunas *marital_status* e *education_level* de outra forma. Esses dados não foram preenchidos por não corresponderem à realidade daquele entrevistado.\n",
        "\n",
        "Vamos manter essas colunas na análise e transformar esses dados em dados booleanos, assim poderemos utilizados posteriormente na análise, caso seja necessário."
      ],
      "metadata": {
        "id": "oGzfV-7e8OMt"
      }
    },
    {
      "cell_type": "code",
      "source": [
        "# criando uma lista com as colunas que serão transformadas\n",
        "colunas_booleanas = ['marital_Divorced', 'marital_Married','marital_Single',\n",
        "    'marital_Together', 'marital_Widow', 'education_2n Cycle', 'education_Basic',\n",
        "    'education_Graduation', 'education_Master', 'education_PhD']"
      ],
      "metadata": {
        "id": "qGBo4jrr8Luj"
      },
      "execution_count": null,
      "outputs": []
    },
    {
      "cell_type": "code",
      "source": [
        "#Substituindo os valores nulos por False e os valores presentes por True.\n",
        "for coluna in colunas_booleanas:\n",
        "  df[coluna + '_booleana'] = np.where(df[coluna].isnull(), False, True)\n"
      ],
      "metadata": {
        "id": "kYRxWhPBAk21"
      },
      "execution_count": null,
      "outputs": []
    },
    {
      "cell_type": "code",
      "source": [
        "df.head()"
      ],
      "metadata": {
        "id": "MSiTF75G8BOU",
        "colab": {
          "base_uri": "https://localhost:8080/",
          "height": 273
        },
        "outputId": "3322791b-ecb4-4e6f-a9fd-3d144ab7a2a6"
      },
      "execution_count": null,
      "outputs": [
        {
          "output_type": "execute_result",
          "data": {
            "text/plain": [
              "    Income  Kidhome  Teenhome  Recency  MntWines  MntFruits  MntMeatProducts  \\\n",
              "0  58138.0        0         0       58       635         88              546   \n",
              "1  46344.0        1         1       38        11          1                6   \n",
              "2  71613.0        0         0       26       426         49              127   \n",
              "3  26646.0        1         0       26        11          4               20   \n",
              "4  58293.0        1         0       94       173         43              118   \n",
              "\n",
              "   MntFishProducts  MntSweetProducts  MntGoldProds  ...  \\\n",
              "0              172                88            88  ...   \n",
              "1                2                 1             6  ...   \n",
              "2              111                21            42  ...   \n",
              "3               10                 3             5  ...   \n",
              "4               46                27            15  ...   \n",
              "\n",
              "   marital_Divorced_booleana  marital_Married_booleana  \\\n",
              "0                      False                     False   \n",
              "1                      False                     False   \n",
              "2                      False                     False   \n",
              "3                      False                     False   \n",
              "4                      False                      True   \n",
              "\n",
              "   marital_Single_booleana  marital_Together_booleana  marital_Widow_booleana  \\\n",
              "0                     True                      False                   False   \n",
              "1                     True                      False                   False   \n",
              "2                    False                       True                   False   \n",
              "3                    False                       True                   False   \n",
              "4                    False                      False                   False   \n",
              "\n",
              "   education_2n Cycle_booleana  education_Basic_booleana  \\\n",
              "0                        False                     False   \n",
              "1                        False                     False   \n",
              "2                        False                     False   \n",
              "3                        False                     False   \n",
              "4                        False                     False   \n",
              "\n",
              "   education_Graduation_booleana  education_Master_booleana  \\\n",
              "0                           True                      False   \n",
              "1                           True                      False   \n",
              "2                           True                      False   \n",
              "3                           True                      False   \n",
              "4                          False                      False   \n",
              "\n",
              "   education_PhD_booleana  \n",
              "0                   False  \n",
              "1                   False  \n",
              "2                   False  \n",
              "3                   False  \n",
              "4                    True  \n",
              "\n",
              "[5 rows x 53 columns]"
            ],
            "text/html": [
              "\n",
              "  <div id=\"df-8a2324b8-334f-4153-be77-4de292de3b98\" class=\"colab-df-container\">\n",
              "    <div>\n",
              "<style scoped>\n",
              "    .dataframe tbody tr th:only-of-type {\n",
              "        vertical-align: middle;\n",
              "    }\n",
              "\n",
              "    .dataframe tbody tr th {\n",
              "        vertical-align: top;\n",
              "    }\n",
              "\n",
              "    .dataframe thead th {\n",
              "        text-align: right;\n",
              "    }\n",
              "</style>\n",
              "<table border=\"1\" class=\"dataframe\">\n",
              "  <thead>\n",
              "    <tr style=\"text-align: right;\">\n",
              "      <th></th>\n",
              "      <th>Income</th>\n",
              "      <th>Kidhome</th>\n",
              "      <th>Teenhome</th>\n",
              "      <th>Recency</th>\n",
              "      <th>MntWines</th>\n",
              "      <th>MntFruits</th>\n",
              "      <th>MntMeatProducts</th>\n",
              "      <th>MntFishProducts</th>\n",
              "      <th>MntSweetProducts</th>\n",
              "      <th>MntGoldProds</th>\n",
              "      <th>...</th>\n",
              "      <th>marital_Divorced_booleana</th>\n",
              "      <th>marital_Married_booleana</th>\n",
              "      <th>marital_Single_booleana</th>\n",
              "      <th>marital_Together_booleana</th>\n",
              "      <th>marital_Widow_booleana</th>\n",
              "      <th>education_2n Cycle_booleana</th>\n",
              "      <th>education_Basic_booleana</th>\n",
              "      <th>education_Graduation_booleana</th>\n",
              "      <th>education_Master_booleana</th>\n",
              "      <th>education_PhD_booleana</th>\n",
              "    </tr>\n",
              "  </thead>\n",
              "  <tbody>\n",
              "    <tr>\n",
              "      <th>0</th>\n",
              "      <td>58138.0</td>\n",
              "      <td>0</td>\n",
              "      <td>0</td>\n",
              "      <td>58</td>\n",
              "      <td>635</td>\n",
              "      <td>88</td>\n",
              "      <td>546</td>\n",
              "      <td>172</td>\n",
              "      <td>88</td>\n",
              "      <td>88</td>\n",
              "      <td>...</td>\n",
              "      <td>False</td>\n",
              "      <td>False</td>\n",
              "      <td>True</td>\n",
              "      <td>False</td>\n",
              "      <td>False</td>\n",
              "      <td>False</td>\n",
              "      <td>False</td>\n",
              "      <td>True</td>\n",
              "      <td>False</td>\n",
              "      <td>False</td>\n",
              "    </tr>\n",
              "    <tr>\n",
              "      <th>1</th>\n",
              "      <td>46344.0</td>\n",
              "      <td>1</td>\n",
              "      <td>1</td>\n",
              "      <td>38</td>\n",
              "      <td>11</td>\n",
              "      <td>1</td>\n",
              "      <td>6</td>\n",
              "      <td>2</td>\n",
              "      <td>1</td>\n",
              "      <td>6</td>\n",
              "      <td>...</td>\n",
              "      <td>False</td>\n",
              "      <td>False</td>\n",
              "      <td>True</td>\n",
              "      <td>False</td>\n",
              "      <td>False</td>\n",
              "      <td>False</td>\n",
              "      <td>False</td>\n",
              "      <td>True</td>\n",
              "      <td>False</td>\n",
              "      <td>False</td>\n",
              "    </tr>\n",
              "    <tr>\n",
              "      <th>2</th>\n",
              "      <td>71613.0</td>\n",
              "      <td>0</td>\n",
              "      <td>0</td>\n",
              "      <td>26</td>\n",
              "      <td>426</td>\n",
              "      <td>49</td>\n",
              "      <td>127</td>\n",
              "      <td>111</td>\n",
              "      <td>21</td>\n",
              "      <td>42</td>\n",
              "      <td>...</td>\n",
              "      <td>False</td>\n",
              "      <td>False</td>\n",
              "      <td>False</td>\n",
              "      <td>True</td>\n",
              "      <td>False</td>\n",
              "      <td>False</td>\n",
              "      <td>False</td>\n",
              "      <td>True</td>\n",
              "      <td>False</td>\n",
              "      <td>False</td>\n",
              "    </tr>\n",
              "    <tr>\n",
              "      <th>3</th>\n",
              "      <td>26646.0</td>\n",
              "      <td>1</td>\n",
              "      <td>0</td>\n",
              "      <td>26</td>\n",
              "      <td>11</td>\n",
              "      <td>4</td>\n",
              "      <td>20</td>\n",
              "      <td>10</td>\n",
              "      <td>3</td>\n",
              "      <td>5</td>\n",
              "      <td>...</td>\n",
              "      <td>False</td>\n",
              "      <td>False</td>\n",
              "      <td>False</td>\n",
              "      <td>True</td>\n",
              "      <td>False</td>\n",
              "      <td>False</td>\n",
              "      <td>False</td>\n",
              "      <td>True</td>\n",
              "      <td>False</td>\n",
              "      <td>False</td>\n",
              "    </tr>\n",
              "    <tr>\n",
              "      <th>4</th>\n",
              "      <td>58293.0</td>\n",
              "      <td>1</td>\n",
              "      <td>0</td>\n",
              "      <td>94</td>\n",
              "      <td>173</td>\n",
              "      <td>43</td>\n",
              "      <td>118</td>\n",
              "      <td>46</td>\n",
              "      <td>27</td>\n",
              "      <td>15</td>\n",
              "      <td>...</td>\n",
              "      <td>False</td>\n",
              "      <td>True</td>\n",
              "      <td>False</td>\n",
              "      <td>False</td>\n",
              "      <td>False</td>\n",
              "      <td>False</td>\n",
              "      <td>False</td>\n",
              "      <td>False</td>\n",
              "      <td>False</td>\n",
              "      <td>True</td>\n",
              "    </tr>\n",
              "  </tbody>\n",
              "</table>\n",
              "<p>5 rows × 53 columns</p>\n",
              "</div>\n",
              "    <div class=\"colab-df-buttons\">\n",
              "\n",
              "  <div class=\"colab-df-container\">\n",
              "    <button class=\"colab-df-convert\" onclick=\"convertToInteractive('df-8a2324b8-334f-4153-be77-4de292de3b98')\"\n",
              "            title=\"Convert this dataframe to an interactive table.\"\n",
              "            style=\"display:none;\">\n",
              "\n",
              "  <svg xmlns=\"http://www.w3.org/2000/svg\" height=\"24px\" viewBox=\"0 -960 960 960\">\n",
              "    <path d=\"M120-120v-720h720v720H120Zm60-500h600v-160H180v160Zm220 220h160v-160H400v160Zm0 220h160v-160H400v160ZM180-400h160v-160H180v160Zm440 0h160v-160H620v160ZM180-180h160v-160H180v160Zm440 0h160v-160H620v160Z\"/>\n",
              "  </svg>\n",
              "    </button>\n",
              "\n",
              "  <style>\n",
              "    .colab-df-container {\n",
              "      display:flex;\n",
              "      gap: 12px;\n",
              "    }\n",
              "\n",
              "    .colab-df-convert {\n",
              "      background-color: #E8F0FE;\n",
              "      border: none;\n",
              "      border-radius: 50%;\n",
              "      cursor: pointer;\n",
              "      display: none;\n",
              "      fill: #1967D2;\n",
              "      height: 32px;\n",
              "      padding: 0 0 0 0;\n",
              "      width: 32px;\n",
              "    }\n",
              "\n",
              "    .colab-df-convert:hover {\n",
              "      background-color: #E2EBFA;\n",
              "      box-shadow: 0px 1px 2px rgba(60, 64, 67, 0.3), 0px 1px 3px 1px rgba(60, 64, 67, 0.15);\n",
              "      fill: #174EA6;\n",
              "    }\n",
              "\n",
              "    .colab-df-buttons div {\n",
              "      margin-bottom: 4px;\n",
              "    }\n",
              "\n",
              "    [theme=dark] .colab-df-convert {\n",
              "      background-color: #3B4455;\n",
              "      fill: #D2E3FC;\n",
              "    }\n",
              "\n",
              "    [theme=dark] .colab-df-convert:hover {\n",
              "      background-color: #434B5C;\n",
              "      box-shadow: 0px 1px 3px 1px rgba(0, 0, 0, 0.15);\n",
              "      filter: drop-shadow(0px 1px 2px rgba(0, 0, 0, 0.3));\n",
              "      fill: #FFFFFF;\n",
              "    }\n",
              "  </style>\n",
              "\n",
              "    <script>\n",
              "      const buttonEl =\n",
              "        document.querySelector('#df-8a2324b8-334f-4153-be77-4de292de3b98 button.colab-df-convert');\n",
              "      buttonEl.style.display =\n",
              "        google.colab.kernel.accessAllowed ? 'block' : 'none';\n",
              "\n",
              "      async function convertToInteractive(key) {\n",
              "        const element = document.querySelector('#df-8a2324b8-334f-4153-be77-4de292de3b98');\n",
              "        const dataTable =\n",
              "          await google.colab.kernel.invokeFunction('convertToInteractive',\n",
              "                                                    [key], {});\n",
              "        if (!dataTable) return;\n",
              "\n",
              "        const docLinkHtml = 'Like what you see? Visit the ' +\n",
              "          '<a target=\"_blank\" href=https://colab.research.google.com/notebooks/data_table.ipynb>data table notebook</a>'\n",
              "          + ' to learn more about interactive tables.';\n",
              "        element.innerHTML = '';\n",
              "        dataTable['output_type'] = 'display_data';\n",
              "        await google.colab.output.renderOutput(dataTable, element);\n",
              "        const docLink = document.createElement('div');\n",
              "        docLink.innerHTML = docLinkHtml;\n",
              "        element.appendChild(docLink);\n",
              "      }\n",
              "    </script>\n",
              "  </div>\n",
              "\n",
              "\n",
              "<div id=\"df-2c94fee7-3a8e-4699-8aa0-4cf4e9bc4c07\">\n",
              "  <button class=\"colab-df-quickchart\" onclick=\"quickchart('df-2c94fee7-3a8e-4699-8aa0-4cf4e9bc4c07')\"\n",
              "            title=\"Suggest charts.\"\n",
              "            style=\"display:none;\">\n",
              "\n",
              "<svg xmlns=\"http://www.w3.org/2000/svg\" height=\"24px\"viewBox=\"0 0 24 24\"\n",
              "     width=\"24px\">\n",
              "    <g>\n",
              "        <path d=\"M19 3H5c-1.1 0-2 .9-2 2v14c0 1.1.9 2 2 2h14c1.1 0 2-.9 2-2V5c0-1.1-.9-2-2-2zM9 17H7v-7h2v7zm4 0h-2V7h2v10zm4 0h-2v-4h2v4z\"/>\n",
              "    </g>\n",
              "</svg>\n",
              "  </button>\n",
              "\n",
              "<style>\n",
              "  .colab-df-quickchart {\n",
              "      --bg-color: #E8F0FE;\n",
              "      --fill-color: #1967D2;\n",
              "      --hover-bg-color: #E2EBFA;\n",
              "      --hover-fill-color: #174EA6;\n",
              "      --disabled-fill-color: #AAA;\n",
              "      --disabled-bg-color: #DDD;\n",
              "  }\n",
              "\n",
              "  [theme=dark] .colab-df-quickchart {\n",
              "      --bg-color: #3B4455;\n",
              "      --fill-color: #D2E3FC;\n",
              "      --hover-bg-color: #434B5C;\n",
              "      --hover-fill-color: #FFFFFF;\n",
              "      --disabled-bg-color: #3B4455;\n",
              "      --disabled-fill-color: #666;\n",
              "  }\n",
              "\n",
              "  .colab-df-quickchart {\n",
              "    background-color: var(--bg-color);\n",
              "    border: none;\n",
              "    border-radius: 50%;\n",
              "    cursor: pointer;\n",
              "    display: none;\n",
              "    fill: var(--fill-color);\n",
              "    height: 32px;\n",
              "    padding: 0;\n",
              "    width: 32px;\n",
              "  }\n",
              "\n",
              "  .colab-df-quickchart:hover {\n",
              "    background-color: var(--hover-bg-color);\n",
              "    box-shadow: 0 1px 2px rgba(60, 64, 67, 0.3), 0 1px 3px 1px rgba(60, 64, 67, 0.15);\n",
              "    fill: var(--button-hover-fill-color);\n",
              "  }\n",
              "\n",
              "  .colab-df-quickchart-complete:disabled,\n",
              "  .colab-df-quickchart-complete:disabled:hover {\n",
              "    background-color: var(--disabled-bg-color);\n",
              "    fill: var(--disabled-fill-color);\n",
              "    box-shadow: none;\n",
              "  }\n",
              "\n",
              "  .colab-df-spinner {\n",
              "    border: 2px solid var(--fill-color);\n",
              "    border-color: transparent;\n",
              "    border-bottom-color: var(--fill-color);\n",
              "    animation:\n",
              "      spin 1s steps(1) infinite;\n",
              "  }\n",
              "\n",
              "  @keyframes spin {\n",
              "    0% {\n",
              "      border-color: transparent;\n",
              "      border-bottom-color: var(--fill-color);\n",
              "      border-left-color: var(--fill-color);\n",
              "    }\n",
              "    20% {\n",
              "      border-color: transparent;\n",
              "      border-left-color: var(--fill-color);\n",
              "      border-top-color: var(--fill-color);\n",
              "    }\n",
              "    30% {\n",
              "      border-color: transparent;\n",
              "      border-left-color: var(--fill-color);\n",
              "      border-top-color: var(--fill-color);\n",
              "      border-right-color: var(--fill-color);\n",
              "    }\n",
              "    40% {\n",
              "      border-color: transparent;\n",
              "      border-right-color: var(--fill-color);\n",
              "      border-top-color: var(--fill-color);\n",
              "    }\n",
              "    60% {\n",
              "      border-color: transparent;\n",
              "      border-right-color: var(--fill-color);\n",
              "    }\n",
              "    80% {\n",
              "      border-color: transparent;\n",
              "      border-right-color: var(--fill-color);\n",
              "      border-bottom-color: var(--fill-color);\n",
              "    }\n",
              "    90% {\n",
              "      border-color: transparent;\n",
              "      border-bottom-color: var(--fill-color);\n",
              "    }\n",
              "  }\n",
              "</style>\n",
              "\n",
              "  <script>\n",
              "    async function quickchart(key) {\n",
              "      const quickchartButtonEl =\n",
              "        document.querySelector('#' + key + ' button');\n",
              "      quickchartButtonEl.disabled = true;  // To prevent multiple clicks.\n",
              "      quickchartButtonEl.classList.add('colab-df-spinner');\n",
              "      try {\n",
              "        const charts = await google.colab.kernel.invokeFunction(\n",
              "            'suggestCharts', [key], {});\n",
              "      } catch (error) {\n",
              "        console.error('Error during call to suggestCharts:', error);\n",
              "      }\n",
              "      quickchartButtonEl.classList.remove('colab-df-spinner');\n",
              "      quickchartButtonEl.classList.add('colab-df-quickchart-complete');\n",
              "    }\n",
              "    (() => {\n",
              "      let quickchartButtonEl =\n",
              "        document.querySelector('#df-2c94fee7-3a8e-4699-8aa0-4cf4e9bc4c07 button');\n",
              "      quickchartButtonEl.style.display =\n",
              "        google.colab.kernel.accessAllowed ? 'block' : 'none';\n",
              "    })();\n",
              "  </script>\n",
              "</div>\n",
              "    </div>\n",
              "  </div>\n"
            ]
          },
          "metadata": {},
          "execution_count": 14
        }
      ]
    },
    {
      "cell_type": "markdown",
      "source": [
        "Estatística descritiva do dataset através do método 'describe':\n",
        "\n",
        "Média, desvio padrão, mínimo, 25 percentil, mediana, 75 percentil e máximo de cada colunas numéricas."
      ],
      "metadata": {
        "id": "lm8qPeXVDHiq"
      }
    },
    {
      "cell_type": "code",
      "source": [
        "df.describe()"
      ],
      "metadata": {
        "id": "s2grQHM8DG9N",
        "colab": {
          "base_uri": "https://localhost:8080/",
          "height": 367
        },
        "outputId": "40eadc56-7d6f-4257-9f8e-88520c9a1f55"
      },
      "execution_count": null,
      "outputs": [
        {
          "output_type": "execute_result",
          "data": {
            "text/plain": [
              "              Income      Kidhome     Teenhome      Recency     MntWines  \\\n",
              "count    2021.000000  2021.000000  2021.000000  2021.000000  2021.000000   \n",
              "mean    51687.258783     0.443345     0.509649    48.880752   306.492331   \n",
              "std     20713.046401     0.536196     0.546393    28.950917   337.603877   \n",
              "min      1730.000000     0.000000     0.000000     0.000000     0.000000   \n",
              "25%     35416.000000     0.000000     0.000000    24.000000    24.000000   \n",
              "50%     51412.000000     0.000000     0.000000    49.000000   178.000000   \n",
              "75%     68274.000000     1.000000     1.000000    74.000000   507.000000   \n",
              "max    113734.000000     2.000000     2.000000    99.000000  1493.000000   \n",
              "\n",
              "         MntFruits  MntMeatProducts  MntFishProducts  MntSweetProducts  \\\n",
              "count  2021.000000      2021.000000      2021.000000       2021.000000   \n",
              "mean     26.364671       166.059871        37.603662         27.268679   \n",
              "std      39.776518       219.869126        54.892196         41.575454   \n",
              "min       0.000000         0.000000         0.000000          0.000000   \n",
              "25%       2.000000        16.000000         3.000000          1.000000   \n",
              "50%       8.000000        68.000000        12.000000          8.000000   \n",
              "75%      33.000000       230.000000        50.000000         34.000000   \n",
              "max     199.000000      1725.000000       259.000000        262.000000   \n",
              "\n",
              "       MntGoldProds  ...  education_2n Cycle  education_Basic  \\\n",
              "count   2021.000000  ...               183.0             49.0   \n",
              "mean      43.921821  ...                 1.0              2.0   \n",
              "std       51.678211  ...                 0.0              0.0   \n",
              "min        0.000000  ...                 1.0              2.0   \n",
              "25%        9.000000  ...                 1.0              2.0   \n",
              "50%       25.000000  ...                 1.0              2.0   \n",
              "75%       56.000000  ...                 1.0              2.0   \n",
              "max      321.000000  ...                 1.0              2.0   \n",
              "\n",
              "       education_Graduation  education_Master  education_PhD     MntTotal  \\\n",
              "count                1015.0             335.0          439.0  2021.000000   \n",
              "mean                    3.0               4.0            5.0   563.789213   \n",
              "std                     0.0               0.0            0.0   576.775749   \n",
              "min                     3.0               4.0            5.0     4.000000   \n",
              "25%                     3.0               4.0            5.0    55.000000   \n",
              "50%                     3.0               4.0            5.0   343.000000   \n",
              "75%                     3.0               4.0            5.0   964.000000   \n",
              "max                     3.0               4.0            5.0  2491.000000   \n",
              "\n",
              "       MntRegularProds  AcceptedCmpOverall         kids     expenses  \n",
              "count      2021.000000         2021.000000  2021.000000  2021.000000  \n",
              "mean        519.867392            0.302326     0.952994   563.789213  \n",
              "std         554.797857            0.680812     0.746123   576.775749  \n",
              "min        -283.000000            0.000000     0.000000     4.000000  \n",
              "25%          42.000000            0.000000     0.000000    55.000000  \n",
              "50%         288.000000            0.000000     1.000000   343.000000  \n",
              "75%         883.000000            0.000000     1.000000   964.000000  \n",
              "max        2458.000000            4.000000     3.000000  2491.000000  \n",
              "\n",
              "[8 rows x 41 columns]"
            ],
            "text/html": [
              "\n",
              "  <div id=\"df-76990537-e475-4841-b8cb-9b747fca1fbf\" class=\"colab-df-container\">\n",
              "    <div>\n",
              "<style scoped>\n",
              "    .dataframe tbody tr th:only-of-type {\n",
              "        vertical-align: middle;\n",
              "    }\n",
              "\n",
              "    .dataframe tbody tr th {\n",
              "        vertical-align: top;\n",
              "    }\n",
              "\n",
              "    .dataframe thead th {\n",
              "        text-align: right;\n",
              "    }\n",
              "</style>\n",
              "<table border=\"1\" class=\"dataframe\">\n",
              "  <thead>\n",
              "    <tr style=\"text-align: right;\">\n",
              "      <th></th>\n",
              "      <th>Income</th>\n",
              "      <th>Kidhome</th>\n",
              "      <th>Teenhome</th>\n",
              "      <th>Recency</th>\n",
              "      <th>MntWines</th>\n",
              "      <th>MntFruits</th>\n",
              "      <th>MntMeatProducts</th>\n",
              "      <th>MntFishProducts</th>\n",
              "      <th>MntSweetProducts</th>\n",
              "      <th>MntGoldProds</th>\n",
              "      <th>...</th>\n",
              "      <th>education_2n Cycle</th>\n",
              "      <th>education_Basic</th>\n",
              "      <th>education_Graduation</th>\n",
              "      <th>education_Master</th>\n",
              "      <th>education_PhD</th>\n",
              "      <th>MntTotal</th>\n",
              "      <th>MntRegularProds</th>\n",
              "      <th>AcceptedCmpOverall</th>\n",
              "      <th>kids</th>\n",
              "      <th>expenses</th>\n",
              "    </tr>\n",
              "  </thead>\n",
              "  <tbody>\n",
              "    <tr>\n",
              "      <th>count</th>\n",
              "      <td>2021.000000</td>\n",
              "      <td>2021.000000</td>\n",
              "      <td>2021.000000</td>\n",
              "      <td>2021.000000</td>\n",
              "      <td>2021.000000</td>\n",
              "      <td>2021.000000</td>\n",
              "      <td>2021.000000</td>\n",
              "      <td>2021.000000</td>\n",
              "      <td>2021.000000</td>\n",
              "      <td>2021.000000</td>\n",
              "      <td>...</td>\n",
              "      <td>183.0</td>\n",
              "      <td>49.0</td>\n",
              "      <td>1015.0</td>\n",
              "      <td>335.0</td>\n",
              "      <td>439.0</td>\n",
              "      <td>2021.000000</td>\n",
              "      <td>2021.000000</td>\n",
              "      <td>2021.000000</td>\n",
              "      <td>2021.000000</td>\n",
              "      <td>2021.000000</td>\n",
              "    </tr>\n",
              "    <tr>\n",
              "      <th>mean</th>\n",
              "      <td>51687.258783</td>\n",
              "      <td>0.443345</td>\n",
              "      <td>0.509649</td>\n",
              "      <td>48.880752</td>\n",
              "      <td>306.492331</td>\n",
              "      <td>26.364671</td>\n",
              "      <td>166.059871</td>\n",
              "      <td>37.603662</td>\n",
              "      <td>27.268679</td>\n",
              "      <td>43.921821</td>\n",
              "      <td>...</td>\n",
              "      <td>1.0</td>\n",
              "      <td>2.0</td>\n",
              "      <td>3.0</td>\n",
              "      <td>4.0</td>\n",
              "      <td>5.0</td>\n",
              "      <td>563.789213</td>\n",
              "      <td>519.867392</td>\n",
              "      <td>0.302326</td>\n",
              "      <td>0.952994</td>\n",
              "      <td>563.789213</td>\n",
              "    </tr>\n",
              "    <tr>\n",
              "      <th>std</th>\n",
              "      <td>20713.046401</td>\n",
              "      <td>0.536196</td>\n",
              "      <td>0.546393</td>\n",
              "      <td>28.950917</td>\n",
              "      <td>337.603877</td>\n",
              "      <td>39.776518</td>\n",
              "      <td>219.869126</td>\n",
              "      <td>54.892196</td>\n",
              "      <td>41.575454</td>\n",
              "      <td>51.678211</td>\n",
              "      <td>...</td>\n",
              "      <td>0.0</td>\n",
              "      <td>0.0</td>\n",
              "      <td>0.0</td>\n",
              "      <td>0.0</td>\n",
              "      <td>0.0</td>\n",
              "      <td>576.775749</td>\n",
              "      <td>554.797857</td>\n",
              "      <td>0.680812</td>\n",
              "      <td>0.746123</td>\n",
              "      <td>576.775749</td>\n",
              "    </tr>\n",
              "    <tr>\n",
              "      <th>min</th>\n",
              "      <td>1730.000000</td>\n",
              "      <td>0.000000</td>\n",
              "      <td>0.000000</td>\n",
              "      <td>0.000000</td>\n",
              "      <td>0.000000</td>\n",
              "      <td>0.000000</td>\n",
              "      <td>0.000000</td>\n",
              "      <td>0.000000</td>\n",
              "      <td>0.000000</td>\n",
              "      <td>0.000000</td>\n",
              "      <td>...</td>\n",
              "      <td>1.0</td>\n",
              "      <td>2.0</td>\n",
              "      <td>3.0</td>\n",
              "      <td>4.0</td>\n",
              "      <td>5.0</td>\n",
              "      <td>4.000000</td>\n",
              "      <td>-283.000000</td>\n",
              "      <td>0.000000</td>\n",
              "      <td>0.000000</td>\n",
              "      <td>4.000000</td>\n",
              "    </tr>\n",
              "    <tr>\n",
              "      <th>25%</th>\n",
              "      <td>35416.000000</td>\n",
              "      <td>0.000000</td>\n",
              "      <td>0.000000</td>\n",
              "      <td>24.000000</td>\n",
              "      <td>24.000000</td>\n",
              "      <td>2.000000</td>\n",
              "      <td>16.000000</td>\n",
              "      <td>3.000000</td>\n",
              "      <td>1.000000</td>\n",
              "      <td>9.000000</td>\n",
              "      <td>...</td>\n",
              "      <td>1.0</td>\n",
              "      <td>2.0</td>\n",
              "      <td>3.0</td>\n",
              "      <td>4.0</td>\n",
              "      <td>5.0</td>\n",
              "      <td>55.000000</td>\n",
              "      <td>42.000000</td>\n",
              "      <td>0.000000</td>\n",
              "      <td>0.000000</td>\n",
              "      <td>55.000000</td>\n",
              "    </tr>\n",
              "    <tr>\n",
              "      <th>50%</th>\n",
              "      <td>51412.000000</td>\n",
              "      <td>0.000000</td>\n",
              "      <td>0.000000</td>\n",
              "      <td>49.000000</td>\n",
              "      <td>178.000000</td>\n",
              "      <td>8.000000</td>\n",
              "      <td>68.000000</td>\n",
              "      <td>12.000000</td>\n",
              "      <td>8.000000</td>\n",
              "      <td>25.000000</td>\n",
              "      <td>...</td>\n",
              "      <td>1.0</td>\n",
              "      <td>2.0</td>\n",
              "      <td>3.0</td>\n",
              "      <td>4.0</td>\n",
              "      <td>5.0</td>\n",
              "      <td>343.000000</td>\n",
              "      <td>288.000000</td>\n",
              "      <td>0.000000</td>\n",
              "      <td>1.000000</td>\n",
              "      <td>343.000000</td>\n",
              "    </tr>\n",
              "    <tr>\n",
              "      <th>75%</th>\n",
              "      <td>68274.000000</td>\n",
              "      <td>1.000000</td>\n",
              "      <td>1.000000</td>\n",
              "      <td>74.000000</td>\n",
              "      <td>507.000000</td>\n",
              "      <td>33.000000</td>\n",
              "      <td>230.000000</td>\n",
              "      <td>50.000000</td>\n",
              "      <td>34.000000</td>\n",
              "      <td>56.000000</td>\n",
              "      <td>...</td>\n",
              "      <td>1.0</td>\n",
              "      <td>2.0</td>\n",
              "      <td>3.0</td>\n",
              "      <td>4.0</td>\n",
              "      <td>5.0</td>\n",
              "      <td>964.000000</td>\n",
              "      <td>883.000000</td>\n",
              "      <td>0.000000</td>\n",
              "      <td>1.000000</td>\n",
              "      <td>964.000000</td>\n",
              "    </tr>\n",
              "    <tr>\n",
              "      <th>max</th>\n",
              "      <td>113734.000000</td>\n",
              "      <td>2.000000</td>\n",
              "      <td>2.000000</td>\n",
              "      <td>99.000000</td>\n",
              "      <td>1493.000000</td>\n",
              "      <td>199.000000</td>\n",
              "      <td>1725.000000</td>\n",
              "      <td>259.000000</td>\n",
              "      <td>262.000000</td>\n",
              "      <td>321.000000</td>\n",
              "      <td>...</td>\n",
              "      <td>1.0</td>\n",
              "      <td>2.0</td>\n",
              "      <td>3.0</td>\n",
              "      <td>4.0</td>\n",
              "      <td>5.0</td>\n",
              "      <td>2491.000000</td>\n",
              "      <td>2458.000000</td>\n",
              "      <td>4.000000</td>\n",
              "      <td>3.000000</td>\n",
              "      <td>2491.000000</td>\n",
              "    </tr>\n",
              "  </tbody>\n",
              "</table>\n",
              "<p>8 rows × 41 columns</p>\n",
              "</div>\n",
              "    <div class=\"colab-df-buttons\">\n",
              "\n",
              "  <div class=\"colab-df-container\">\n",
              "    <button class=\"colab-df-convert\" onclick=\"convertToInteractive('df-76990537-e475-4841-b8cb-9b747fca1fbf')\"\n",
              "            title=\"Convert this dataframe to an interactive table.\"\n",
              "            style=\"display:none;\">\n",
              "\n",
              "  <svg xmlns=\"http://www.w3.org/2000/svg\" height=\"24px\" viewBox=\"0 -960 960 960\">\n",
              "    <path d=\"M120-120v-720h720v720H120Zm60-500h600v-160H180v160Zm220 220h160v-160H400v160Zm0 220h160v-160H400v160ZM180-400h160v-160H180v160Zm440 0h160v-160H620v160ZM180-180h160v-160H180v160Zm440 0h160v-160H620v160Z\"/>\n",
              "  </svg>\n",
              "    </button>\n",
              "\n",
              "  <style>\n",
              "    .colab-df-container {\n",
              "      display:flex;\n",
              "      gap: 12px;\n",
              "    }\n",
              "\n",
              "    .colab-df-convert {\n",
              "      background-color: #E8F0FE;\n",
              "      border: none;\n",
              "      border-radius: 50%;\n",
              "      cursor: pointer;\n",
              "      display: none;\n",
              "      fill: #1967D2;\n",
              "      height: 32px;\n",
              "      padding: 0 0 0 0;\n",
              "      width: 32px;\n",
              "    }\n",
              "\n",
              "    .colab-df-convert:hover {\n",
              "      background-color: #E2EBFA;\n",
              "      box-shadow: 0px 1px 2px rgba(60, 64, 67, 0.3), 0px 1px 3px 1px rgba(60, 64, 67, 0.15);\n",
              "      fill: #174EA6;\n",
              "    }\n",
              "\n",
              "    .colab-df-buttons div {\n",
              "      margin-bottom: 4px;\n",
              "    }\n",
              "\n",
              "    [theme=dark] .colab-df-convert {\n",
              "      background-color: #3B4455;\n",
              "      fill: #D2E3FC;\n",
              "    }\n",
              "\n",
              "    [theme=dark] .colab-df-convert:hover {\n",
              "      background-color: #434B5C;\n",
              "      box-shadow: 0px 1px 3px 1px rgba(0, 0, 0, 0.15);\n",
              "      filter: drop-shadow(0px 1px 2px rgba(0, 0, 0, 0.3));\n",
              "      fill: #FFFFFF;\n",
              "    }\n",
              "  </style>\n",
              "\n",
              "    <script>\n",
              "      const buttonEl =\n",
              "        document.querySelector('#df-76990537-e475-4841-b8cb-9b747fca1fbf button.colab-df-convert');\n",
              "      buttonEl.style.display =\n",
              "        google.colab.kernel.accessAllowed ? 'block' : 'none';\n",
              "\n",
              "      async function convertToInteractive(key) {\n",
              "        const element = document.querySelector('#df-76990537-e475-4841-b8cb-9b747fca1fbf');\n",
              "        const dataTable =\n",
              "          await google.colab.kernel.invokeFunction('convertToInteractive',\n",
              "                                                    [key], {});\n",
              "        if (!dataTable) return;\n",
              "\n",
              "        const docLinkHtml = 'Like what you see? Visit the ' +\n",
              "          '<a target=\"_blank\" href=https://colab.research.google.com/notebooks/data_table.ipynb>data table notebook</a>'\n",
              "          + ' to learn more about interactive tables.';\n",
              "        element.innerHTML = '';\n",
              "        dataTable['output_type'] = 'display_data';\n",
              "        await google.colab.output.renderOutput(dataTable, element);\n",
              "        const docLink = document.createElement('div');\n",
              "        docLink.innerHTML = docLinkHtml;\n",
              "        element.appendChild(docLink);\n",
              "      }\n",
              "    </script>\n",
              "  </div>\n",
              "\n",
              "\n",
              "<div id=\"df-36b81ac7-c872-476f-bda1-2c3ecddcc34e\">\n",
              "  <button class=\"colab-df-quickchart\" onclick=\"quickchart('df-36b81ac7-c872-476f-bda1-2c3ecddcc34e')\"\n",
              "            title=\"Suggest charts.\"\n",
              "            style=\"display:none;\">\n",
              "\n",
              "<svg xmlns=\"http://www.w3.org/2000/svg\" height=\"24px\"viewBox=\"0 0 24 24\"\n",
              "     width=\"24px\">\n",
              "    <g>\n",
              "        <path d=\"M19 3H5c-1.1 0-2 .9-2 2v14c0 1.1.9 2 2 2h14c1.1 0 2-.9 2-2V5c0-1.1-.9-2-2-2zM9 17H7v-7h2v7zm4 0h-2V7h2v10zm4 0h-2v-4h2v4z\"/>\n",
              "    </g>\n",
              "</svg>\n",
              "  </button>\n",
              "\n",
              "<style>\n",
              "  .colab-df-quickchart {\n",
              "      --bg-color: #E8F0FE;\n",
              "      --fill-color: #1967D2;\n",
              "      --hover-bg-color: #E2EBFA;\n",
              "      --hover-fill-color: #174EA6;\n",
              "      --disabled-fill-color: #AAA;\n",
              "      --disabled-bg-color: #DDD;\n",
              "  }\n",
              "\n",
              "  [theme=dark] .colab-df-quickchart {\n",
              "      --bg-color: #3B4455;\n",
              "      --fill-color: #D2E3FC;\n",
              "      --hover-bg-color: #434B5C;\n",
              "      --hover-fill-color: #FFFFFF;\n",
              "      --disabled-bg-color: #3B4455;\n",
              "      --disabled-fill-color: #666;\n",
              "  }\n",
              "\n",
              "  .colab-df-quickchart {\n",
              "    background-color: var(--bg-color);\n",
              "    border: none;\n",
              "    border-radius: 50%;\n",
              "    cursor: pointer;\n",
              "    display: none;\n",
              "    fill: var(--fill-color);\n",
              "    height: 32px;\n",
              "    padding: 0;\n",
              "    width: 32px;\n",
              "  }\n",
              "\n",
              "  .colab-df-quickchart:hover {\n",
              "    background-color: var(--hover-bg-color);\n",
              "    box-shadow: 0 1px 2px rgba(60, 64, 67, 0.3), 0 1px 3px 1px rgba(60, 64, 67, 0.15);\n",
              "    fill: var(--button-hover-fill-color);\n",
              "  }\n",
              "\n",
              "  .colab-df-quickchart-complete:disabled,\n",
              "  .colab-df-quickchart-complete:disabled:hover {\n",
              "    background-color: var(--disabled-bg-color);\n",
              "    fill: var(--disabled-fill-color);\n",
              "    box-shadow: none;\n",
              "  }\n",
              "\n",
              "  .colab-df-spinner {\n",
              "    border: 2px solid var(--fill-color);\n",
              "    border-color: transparent;\n",
              "    border-bottom-color: var(--fill-color);\n",
              "    animation:\n",
              "      spin 1s steps(1) infinite;\n",
              "  }\n",
              "\n",
              "  @keyframes spin {\n",
              "    0% {\n",
              "      border-color: transparent;\n",
              "      border-bottom-color: var(--fill-color);\n",
              "      border-left-color: var(--fill-color);\n",
              "    }\n",
              "    20% {\n",
              "      border-color: transparent;\n",
              "      border-left-color: var(--fill-color);\n",
              "      border-top-color: var(--fill-color);\n",
              "    }\n",
              "    30% {\n",
              "      border-color: transparent;\n",
              "      border-left-color: var(--fill-color);\n",
              "      border-top-color: var(--fill-color);\n",
              "      border-right-color: var(--fill-color);\n",
              "    }\n",
              "    40% {\n",
              "      border-color: transparent;\n",
              "      border-right-color: var(--fill-color);\n",
              "      border-top-color: var(--fill-color);\n",
              "    }\n",
              "    60% {\n",
              "      border-color: transparent;\n",
              "      border-right-color: var(--fill-color);\n",
              "    }\n",
              "    80% {\n",
              "      border-color: transparent;\n",
              "      border-right-color: var(--fill-color);\n",
              "      border-bottom-color: var(--fill-color);\n",
              "    }\n",
              "    90% {\n",
              "      border-color: transparent;\n",
              "      border-bottom-color: var(--fill-color);\n",
              "    }\n",
              "  }\n",
              "</style>\n",
              "\n",
              "  <script>\n",
              "    async function quickchart(key) {\n",
              "      const quickchartButtonEl =\n",
              "        document.querySelector('#' + key + ' button');\n",
              "      quickchartButtonEl.disabled = true;  // To prevent multiple clicks.\n",
              "      quickchartButtonEl.classList.add('colab-df-spinner');\n",
              "      try {\n",
              "        const charts = await google.colab.kernel.invokeFunction(\n",
              "            'suggestCharts', [key], {});\n",
              "      } catch (error) {\n",
              "        console.error('Error during call to suggestCharts:', error);\n",
              "      }\n",
              "      quickchartButtonEl.classList.remove('colab-df-spinner');\n",
              "      quickchartButtonEl.classList.add('colab-df-quickchart-complete');\n",
              "    }\n",
              "    (() => {\n",
              "      let quickchartButtonEl =\n",
              "        document.querySelector('#df-36b81ac7-c872-476f-bda1-2c3ecddcc34e button');\n",
              "      quickchartButtonEl.style.display =\n",
              "        google.colab.kernel.accessAllowed ? 'block' : 'none';\n",
              "    })();\n",
              "  </script>\n",
              "</div>\n",
              "    </div>\n",
              "  </div>\n"
            ]
          },
          "metadata": {},
          "execution_count": 15
        }
      ]
    },
    {
      "cell_type": "markdown",
      "source": [
        "## Entendendo o perfil do cliente:\n",
        "\n",
        "### 1.Renda:\n",
        "Menor e maior salário encontrado na nossa base (rendimento anual):"
      ],
      "metadata": {
        "id": "bCjR1O2FEtYH"
      }
    },
    {
      "cell_type": "code",
      "source": [
        "menor_salario = df.Income.min()\n",
        "maior_salario = df.Income.max()\n",
        "\n",
        "print('O menor salário encontrado foi:', menor_salario )\n",
        "print('O maior salário encontrado foi:', maior_salario )"
      ],
      "metadata": {
        "id": "dBKsFZqqFLdx",
        "colab": {
          "base_uri": "https://localhost:8080/"
        },
        "outputId": "3c8542cd-aa41-425d-b896-c533e17525a4"
      },
      "execution_count": null,
      "outputs": [
        {
          "output_type": "stream",
          "name": "stdout",
          "text": [
            "O menor salário encontrado foi: 1730.0\n",
            "O maior salário encontrado foi: 113734.0\n"
          ]
        }
      ]
    },
    {
      "cell_type": "markdown",
      "source": [
        "Distribuição de salário dos clientes do nosso dataset:"
      ],
      "metadata": {
        "id": "QB7u7cXBE05d"
      }
    },
    {
      "cell_type": "code",
      "source": [
        "sns.boxplot(df.Income, palette = \"mako\")\n",
        "plt.title(\"Boxplot de distribuição de salário\")\n",
        "plt.show()"
      ],
      "metadata": {
        "id": "ygA1I_9XFmvc",
        "colab": {
          "base_uri": "https://localhost:8080/",
          "height": 453
        },
        "outputId": "2182603b-d13f-465b-8445-f881649aa092"
      },
      "execution_count": null,
      "outputs": [
        {
          "output_type": "display_data",
          "data": {
            "text/plain": [
              "<Figure size 640x480 with 1 Axes>"
            ],
            "image/png": "[encoded data removed]"
          },
          "metadata": {}
        }
      ]
    },
    {
      "cell_type": "markdown",
      "source": [
        "Apesar da grande disperção de valores, com algumas pessoas ganhando pouco e outras ganhando muito, não notamos outliers na nossa base. A maior parte dos nossos clientes recebem entre 35000 e 70000 anual."
      ],
      "metadata": {
        "id": "kR9w353-GTpW"
      }
    },
    {
      "cell_type": "markdown",
      "source": [
        "### 2.Educação:"
      ],
      "metadata": {
        "id": "Aw9KMj3wE6h-"
      }
    },
    {
      "cell_type": "code",
      "source": [
        "sns.countplot(x=df[\"education_level\"], palette = \"mako\" )\n",
        "plt.title(\"Nível Educacional dos Clientes\")\n",
        "plt.xlabel(\"Nível Educacional\")\n",
        "plt.show()"
      ],
      "metadata": {
        "id": "Db3JVG6jIdox",
        "colab": {
          "base_uri": "https://localhost:8080/",
          "height": 472
        },
        "outputId": "114f2381-f8f9-4262-be29-4a3e1af9062e"
      },
      "execution_count": null,
      "outputs": [
        {
          "output_type": "display_data",
          "data": {
            "text/plain": [
              "<Figure size 640x480 with 1 Axes>"
            ],
            "image/png": "[encoded data removed]"
          },
          "metadata": {}
        }
      ]
    },
    {
      "cell_type": "markdown",
      "source": [
        "Vimos que a maior parte dos clientes da plataforma possuem nível superior."
      ],
      "metadata": {
        "id": "-6drlpqNlnNP"
      }
    },
    {
      "cell_type": "markdown",
      "source": [
        "### 3.Estado Civil:"
      ],
      "metadata": {
        "id": "wOncTD3yFESZ"
      }
    },
    {
      "cell_type": "code",
      "source": [
        "sns.countplot(x=df[\"marital_status\"], palette = \"mako\" )\n",
        "plt.title(\"Estado Civil dos Clientes\")\n",
        "plt.xlabel(\"Estado Civil\")\n",
        "plt.show()"
      ],
      "metadata": {
        "id": "IiEO97EvMkbh",
        "colab": {
          "base_uri": "https://localhost:8080/",
          "height": 472
        },
        "outputId": "b4935e73-3832-4ae4-9404-5e13e00e9b92"
      },
      "execution_count": null,
      "outputs": [
        {
          "output_type": "display_data",
          "data": {
            "text/plain": [
              "<Figure size 640x480 with 1 Axes>"
            ],
            "image/png": "[encoded data removed]"
          },
          "metadata": {}
        }
      ]
    },
    {
      "cell_type": "markdown",
      "source": [
        "A maior parte dos clientes são casados, mas clientes que vivem juntos e clientes solteiros também são uma parcela considerável de clientes."
      ],
      "metadata": {
        "id": "o_KMuSRtw-Kv"
      }
    },
    {
      "cell_type": "markdown",
      "source": [
        "### 4.Relação entre estado civil e quantidade de filhos:"
      ],
      "metadata": {
        "id": "2WvHC6fANN9T"
      }
    },
    {
      "cell_type": "code",
      "source": [
        "sns.boxplot(x=df[\"marital_status\"], y=df[\"kids\"], palette= \"mako\")\n",
        "plt.title(\"Relação entre estado civil e número de filhos\")\n",
        "plt.xlabel(\"Estado Civil\")\n",
        "plt.ylabel(\"Filhos\")\n",
        "plt.show()"
      ],
      "metadata": {
        "id": "PmaDImIHNSz_",
        "colab": {
          "base_uri": "https://localhost:8080/",
          "height": 472
        },
        "outputId": "87fe1b3f-057a-4da4-b896-8cb8191eacaf"
      },
      "execution_count": null,
      "outputs": [
        {
          "output_type": "display_data",
          "data": {
            "text/plain": [
              "<Figure size 640x480 with 1 Axes>"
            ],
            "image/png": "[encoded data removed]"
          },
          "metadata": {}
        }
      ]
    },
    {
      "cell_type": "markdown",
      "source": [
        "Pelo boxplot, não é possivel concluir que as pessoas casadas da nossa amostra possuem mais filhos do que as pessoas com outro estado civil. Vamos analisar a média para procurar mais informações."
      ],
      "metadata": {
        "id": "Obic4I1MPXfA"
      }
    },
    {
      "cell_type": "code",
      "source": [
        "df.groupby(\"marital_status\")[\"kids\"].mean()"
      ],
      "metadata": {
        "id": "I12PaHT2PZb6",
        "colab": {
          "base_uri": "https://localhost:8080/"
        },
        "outputId": "cc380096-7ada-4edb-f647-a7bfeed61aa2"
      },
      "execution_count": null,
      "outputs": [
        {
          "output_type": "execute_result",
          "data": {
            "text/plain": [
              "marital_status\n",
              "Divorced    1.023364\n",
              "Married     0.977070\n",
              "Single      0.860045\n",
              "Together    0.982318\n",
              "Widow       0.842857\n",
              "Name: kids, dtype: float64"
            ]
          },
          "metadata": {},
          "execution_count": 21
        }
      ]
    },
    {
      "cell_type": "markdown",
      "source": [
        "A média de filhos das pessoas divorciadas da nossa amostra é um pouco maior do que a média dos demais status, seguido de casados, pessoas que vivem juntas, solteiros e por último viúvos. Mesmo assim, não temos uma diferença muito grande entre as classes."
      ],
      "metadata": {
        "id": "HkgS-z5HpyHK"
      }
    },
    {
      "cell_type": "markdown",
      "source": [
        "***Com os dados que exploramos até agora, podemos levantar algumas perguntas relevantes para o nosso negócio:***\n",
        "\n",
        "1- Pessoas que recebem um maior salário gastam mais?\n",
        "\n",
        "2- As pessoas gastam mais ou menos em nossa plataforma quando tem filhos?\n"
      ],
      "metadata": {
        "id": "hMDPekUu04af"
      }
    },
    {
      "cell_type": "markdown",
      "source": [
        "### Pessoas que recebem um maior salário gastam mais?\n"
      ],
      "metadata": {
        "id": "YiSTM-h3yLfy"
      }
    },
    {
      "cell_type": "code",
      "source": [
        "sns.scatterplot(x= df.Income, y= df.expenses)\n",
        "plt.title(\"Relação entre salário e gastos na plataforma\")\n",
        "plt.show()"
      ],
      "metadata": {
        "id": "A1M_iKx1By9a",
        "colab": {
          "base_uri": "https://localhost:8080/",
          "height": 472
        },
        "outputId": "8161b5af-9601-4402-912b-d18315af5054"
      },
      "execution_count": null,
      "outputs": [
        {
          "output_type": "display_data",
          "data": {
            "text/plain": [
              "<Figure size 640x480 with 1 Axes>"
            ],
            "image/png": "[encoded data removed]"
          },
          "metadata": {}
        }
      ]
    },
    {
      "cell_type": "markdown",
      "source": [
        "Pelo gráfico de dispersão notamos uma correlação positiva entre as variáveis salário(Income) e valos gasto na plataforma(Expenses), ou seja, os gastos são maiores em clientes que recebem um salário maior."
      ],
      "metadata": {
        "id": "sQow95Ap1Zrr"
      }
    },
    {
      "cell_type": "markdown",
      "source": [
        "### As pessoas gastam mais ou menos em nossa plataforma quando tem filhos?"
      ],
      "metadata": {
        "id": "9I-hGCLXtSxO"
      }
    },
    {
      "cell_type": "code",
      "source": [
        "sns.boxplot(x= df.kids, y= df.expenses, palette= 'mako' )\n",
        "plt.title('Relação entre consumo na plataforma e número de filhos')\n",
        "plt.show()"
      ],
      "metadata": {
        "id": "cq5G_3-xtaPr",
        "colab": {
          "base_uri": "https://localhost:8080/",
          "height": 472
        },
        "outputId": "e42a4a45-35db-49b4-e7fb-a2d25553c5dc"
      },
      "execution_count": null,
      "outputs": [
        {
          "output_type": "display_data",
          "data": {
            "text/plain": [
              "<Figure size 640x480 with 1 Axes>"
            ],
            "image/png": "[encoded data removed]"
          },
          "metadata": {}
        }
      ]
    },
    {
      "cell_type": "code",
      "source": [
        "df.groupby(\"kids\")[\"expenses\"].mean()"
      ],
      "metadata": {
        "id": "ayIcWT7SuNGi",
        "colab": {
          "base_uri": "https://localhost:8080/"
        },
        "outputId": "591178a1-3113-40c7-f288-b52b0e93ddc7"
      },
      "execution_count": null,
      "outputs": [
        {
          "output_type": "execute_result",
          "data": {
            "text/plain": [
              "kids\n",
              "0    1056.282187\n",
              "1     432.732230\n",
              "2     223.267016\n",
              "3     240.044444\n",
              "Name: expenses, dtype: float64"
            ]
          },
          "metadata": {},
          "execution_count": 24
        }
      ]
    },
    {
      "cell_type": "markdown",
      "source": [
        "Nota-se que pessoas sem filhos gastam muito mais na nossa plataforma do que pessoas com filhos, tendo a média de gastos acima de 1000. Pessoas com mais filhos gastam menos do que pessoas com apenas 1 filho, ficando bem próximas as médias de gastos de pessoas com 2 e 3 filhos. Mesmo com a presença de vários outliers nos grupos com 2 ou 3 filhos, o que influencia na média desses grupos, ainda notamos essa diferença no consumo. Ainda analisando o gráfico, vemos a linha da mediana, próxima de zero, provavelmente um pouco abaixo de 100 nos grupos 2 e 3; e na faixa de 1100 para o grupo 0 (sem filhos)."
      ],
      "metadata": {
        "id": "LdThwwhXxrU0"
      }
    },
    {
      "cell_type": "markdown",
      "source": [
        "## Análise para direcionamento de Campanha de Marketing"
      ],
      "metadata": {
        "id": "E4SyjWl75o3m"
      }
    },
    {
      "cell_type": "markdown",
      "source": [
        "Na nossa análise de dados anterior, vimos que pessoas sem filhos gastam mais do que pessoas com mais filhos. Nossa equipe de marketing pensou em fazer campanhas direcionadas ao grupo de pessoas com filho (independente da quantidade), porém precisamos comprovar se de fato as médias de gastos dos grupos é diferente. Para isso, vamos adotar a seguinte prática:\n",
        "\n",
        "1. Agrupar todas as pessoas que tem filhos em um grupo chamado \"com filhos\" e comparar a média de gastos de pessoas sem filhos e pessoas com filhos.\n",
        "\n",
        "2. Comparar os grupos de pessoas com filhos. O time de marketing nos pediu para verificar se há diferenças de gastos (expenses) em quem tem 1, 2, 3 ou mais filhos para que eles possam afunilar mais ainda a campanha. A média desses grupos é diferente? Qual(is) tem menor média?"
      ],
      "metadata": {
        "id": "waUs9-dM7OBA"
      }
    },
    {
      "cell_type": "markdown",
      "source": [
        "### 1. Agrupando todas as pessoas que tem filhos para comparar a média de gastos de pessoas sem filhos e pessoas com filhos."
      ],
      "metadata": {
        "id": "xZgxW9nx8-w3"
      }
    },
    {
      "cell_type": "markdown",
      "source": [
        "Vamos criar uma coluna nova no nosso dataset chamada grupo_filhos e preenche-lá com 'yes' para pessoas que possuam filhos (qualquer quantidade) e 'no' para pessoas que não possuam filhos."
      ],
      "metadata": {
        "id": "7NcHEkUMDUP1"
      }
    },
    {
      "cell_type": "code",
      "source": [
        "# Criando uma função que atribui 'yes' se tiver filhos (kids > 0) e 'no' caso contrário\n",
        "def atribuir_grupo(kids):\n",
        "    if kids > 0:\n",
        "        return 'yes'  # Tem filhos\n",
        "    else:\n",
        "        return 'no'  # Não tem filhos\n",
        "\n",
        "# Aplicando a função e criando a nova coluna \"grupo_filhos\"\n",
        "df['grupo_filhos'] = df['kids'].apply(atribuir_grupo)\n",
        "\n",
        "df.head()"
      ],
      "metadata": {
        "id": "KhP9H-dy1YPt",
        "colab": {
          "base_uri": "https://localhost:8080/",
          "height": 273
        },
        "outputId": "57ea858c-ece8-4b33-a167-ca8b6cd575d6"
      },
      "execution_count": null,
      "outputs": [
        {
          "output_type": "execute_result",
          "data": {
            "text/plain": [
              "    Income  Kidhome  Teenhome  Recency  MntWines  MntFruits  MntMeatProducts  \\\n",
              "0  58138.0        0         0       58       635         88              546   \n",
              "1  46344.0        1         1       38        11          1                6   \n",
              "2  71613.0        0         0       26       426         49              127   \n",
              "3  26646.0        1         0       26        11          4               20   \n",
              "4  58293.0        1         0       94       173         43              118   \n",
              "\n",
              "   MntFishProducts  MntSweetProducts  MntGoldProds  ...  \\\n",
              "0              172                88            88  ...   \n",
              "1                2                 1             6  ...   \n",
              "2              111                21            42  ...   \n",
              "3               10                 3             5  ...   \n",
              "4               46                27            15  ...   \n",
              "\n",
              "   marital_Married_booleana  marital_Single_booleana  \\\n",
              "0                     False                     True   \n",
              "1                     False                     True   \n",
              "2                     False                    False   \n",
              "3                     False                    False   \n",
              "4                      True                    False   \n",
              "\n",
              "   marital_Together_booleana  marital_Widow_booleana  \\\n",
              "0                      False                   False   \n",
              "1                      False                   False   \n",
              "2                       True                   False   \n",
              "3                       True                   False   \n",
              "4                      False                   False   \n",
              "\n",
              "   education_2n Cycle_booleana  education_Basic_booleana  \\\n",
              "0                        False                     False   \n",
              "1                        False                     False   \n",
              "2                        False                     False   \n",
              "3                        False                     False   \n",
              "4                        False                     False   \n",
              "\n",
              "   education_Graduation_booleana  education_Master_booleana  \\\n",
              "0                           True                      False   \n",
              "1                           True                      False   \n",
              "2                           True                      False   \n",
              "3                           True                      False   \n",
              "4                          False                      False   \n",
              "\n",
              "   education_PhD_booleana  grupo_filhos  \n",
              "0                   False            no  \n",
              "1                   False           yes  \n",
              "2                   False            no  \n",
              "3                   False           yes  \n",
              "4                    True           yes  \n",
              "\n",
              "[5 rows x 54 columns]"
            ],
            "text/html": [
              "\n",
              "  <div id=\"df-7c519795-653c-4991-9d56-7cdfe91bdede\" class=\"colab-df-container\">\n",
              "    <div>\n",
              "<style scoped>\n",
              "    .dataframe tbody tr th:only-of-type {\n",
              "        vertical-align: middle;\n",
              "    }\n",
              "\n",
              "    .dataframe tbody tr th {\n",
              "        vertical-align: top;\n",
              "    }\n",
              "\n",
              "    .dataframe thead th {\n",
              "        text-align: right;\n",
              "    }\n",
              "</style>\n",
              "<table border=\"1\" class=\"dataframe\">\n",
              "  <thead>\n",
              "    <tr style=\"text-align: right;\">\n",
              "      <th></th>\n",
              "      <th>Income</th>\n",
              "      <th>Kidhome</th>\n",
              "      <th>Teenhome</th>\n",
              "      <th>Recency</th>\n",
              "      <th>MntWines</th>\n",
              "      <th>MntFruits</th>\n",
              "      <th>MntMeatProducts</th>\n",
              "      <th>MntFishProducts</th>\n",
              "      <th>MntSweetProducts</th>\n",
              "      <th>MntGoldProds</th>\n",
              "      <th>...</th>\n",
              "      <th>marital_Married_booleana</th>\n",
              "      <th>marital_Single_booleana</th>\n",
              "      <th>marital_Together_booleana</th>\n",
              "      <th>marital_Widow_booleana</th>\n",
              "      <th>education_2n Cycle_booleana</th>\n",
              "      <th>education_Basic_booleana</th>\n",
              "      <th>education_Graduation_booleana</th>\n",
              "      <th>education_Master_booleana</th>\n",
              "      <th>education_PhD_booleana</th>\n",
              "      <th>grupo_filhos</th>\n",
              "    </tr>\n",
              "  </thead>\n",
              "  <tbody>\n",
              "    <tr>\n",
              "      <th>0</th>\n",
              "      <td>58138.0</td>\n",
              "      <td>0</td>\n",
              "      <td>0</td>\n",
              "      <td>58</td>\n",
              "      <td>635</td>\n",
              "      <td>88</td>\n",
              "      <td>546</td>\n",
              "      <td>172</td>\n",
              "      <td>88</td>\n",
              "      <td>88</td>\n",
              "      <td>...</td>\n",
              "      <td>False</td>\n",
              "      <td>True</td>\n",
              "      <td>False</td>\n",
              "      <td>False</td>\n",
              "      <td>False</td>\n",
              "      <td>False</td>\n",
              "      <td>True</td>\n",
              "      <td>False</td>\n",
              "      <td>False</td>\n",
              "      <td>no</td>\n",
              "    </tr>\n",
              "    <tr>\n",
              "      <th>1</th>\n",
              "      <td>46344.0</td>\n",
              "      <td>1</td>\n",
              "      <td>1</td>\n",
              "      <td>38</td>\n",
              "      <td>11</td>\n",
              "      <td>1</td>\n",
              "      <td>6</td>\n",
              "      <td>2</td>\n",
              "      <td>1</td>\n",
              "      <td>6</td>\n",
              "      <td>...</td>\n",
              "      <td>False</td>\n",
              "      <td>True</td>\n",
              "      <td>False</td>\n",
              "      <td>False</td>\n",
              "      <td>False</td>\n",
              "      <td>False</td>\n",
              "      <td>True</td>\n",
              "      <td>False</td>\n",
              "      <td>False</td>\n",
              "      <td>yes</td>\n",
              "    </tr>\n",
              "    <tr>\n",
              "      <th>2</th>\n",
              "      <td>71613.0</td>\n",
              "      <td>0</td>\n",
              "      <td>0</td>\n",
              "      <td>26</td>\n",
              "      <td>426</td>\n",
              "      <td>49</td>\n",
              "      <td>127</td>\n",
              "      <td>111</td>\n",
              "      <td>21</td>\n",
              "      <td>42</td>\n",
              "      <td>...</td>\n",
              "      <td>False</td>\n",
              "      <td>False</td>\n",
              "      <td>True</td>\n",
              "      <td>False</td>\n",
              "      <td>False</td>\n",
              "      <td>False</td>\n",
              "      <td>True</td>\n",
              "      <td>False</td>\n",
              "      <td>False</td>\n",
              "      <td>no</td>\n",
              "    </tr>\n",
              "    <tr>\n",
              "      <th>3</th>\n",
              "      <td>26646.0</td>\n",
              "      <td>1</td>\n",
              "      <td>0</td>\n",
              "      <td>26</td>\n",
              "      <td>11</td>\n",
              "      <td>4</td>\n",
              "      <td>20</td>\n",
              "      <td>10</td>\n",
              "      <td>3</td>\n",
              "      <td>5</td>\n",
              "      <td>...</td>\n",
              "      <td>False</td>\n",
              "      <td>False</td>\n",
              "      <td>True</td>\n",
              "      <td>False</td>\n",
              "      <td>False</td>\n",
              "      <td>False</td>\n",
              "      <td>True</td>\n",
              "      <td>False</td>\n",
              "      <td>False</td>\n",
              "      <td>yes</td>\n",
              "    </tr>\n",
              "    <tr>\n",
              "      <th>4</th>\n",
              "      <td>58293.0</td>\n",
              "      <td>1</td>\n",
              "      <td>0</td>\n",
              "      <td>94</td>\n",
              "      <td>173</td>\n",
              "      <td>43</td>\n",
              "      <td>118</td>\n",
              "      <td>46</td>\n",
              "      <td>27</td>\n",
              "      <td>15</td>\n",
              "      <td>...</td>\n",
              "      <td>True</td>\n",
              "      <td>False</td>\n",
              "      <td>False</td>\n",
              "      <td>False</td>\n",
              "      <td>False</td>\n",
              "      <td>False</td>\n",
              "      <td>False</td>\n",
              "      <td>False</td>\n",
              "      <td>True</td>\n",
              "      <td>yes</td>\n",
              "    </tr>\n",
              "  </tbody>\n",
              "</table>\n",
              "<p>5 rows × 54 columns</p>\n",
              "</div>\n",
              "    <div class=\"colab-df-buttons\">\n",
              "\n",
              "  <div class=\"colab-df-container\">\n",
              "    <button class=\"colab-df-convert\" onclick=\"convertToInteractive('df-7c519795-653c-4991-9d56-7cdfe91bdede')\"\n",
              "            title=\"Convert this dataframe to an interactive table.\"\n",
              "            style=\"display:none;\">\n",
              "\n",
              "  <svg xmlns=\"http://www.w3.org/2000/svg\" height=\"24px\" viewBox=\"0 -960 960 960\">\n",
              "    <path d=\"M120-120v-720h720v720H120Zm60-500h600v-160H180v160Zm220 220h160v-160H400v160Zm0 220h160v-160H400v160ZM180-400h160v-160H180v160Zm440 0h160v-160H620v160ZM180-180h160v-160H180v160Zm440 0h160v-160H620v160Z\"/>\n",
              "  </svg>\n",
              "    </button>\n",
              "\n",
              "  <style>\n",
              "    .colab-df-container {\n",
              "      display:flex;\n",
              "      gap: 12px;\n",
              "    }\n",
              "\n",
              "    .colab-df-convert {\n",
              "      background-color: #E8F0FE;\n",
              "      border: none;\n",
              "      border-radius: 50%;\n",
              "      cursor: pointer;\n",
              "      display: none;\n",
              "      fill: #1967D2;\n",
              "      height: 32px;\n",
              "      padding: 0 0 0 0;\n",
              "      width: 32px;\n",
              "    }\n",
              "\n",
              "    .colab-df-convert:hover {\n",
              "      background-color: #E2EBFA;\n",
              "      box-shadow: 0px 1px 2px rgba(60, 64, 67, 0.3), 0px 1px 3px 1px rgba(60, 64, 67, 0.15);\n",
              "      fill: #174EA6;\n",
              "    }\n",
              "\n",
              "    .colab-df-buttons div {\n",
              "      margin-bottom: 4px;\n",
              "    }\n",
              "\n",
              "    [theme=dark] .colab-df-convert {\n",
              "      background-color: #3B4455;\n",
              "      fill: #D2E3FC;\n",
              "    }\n",
              "\n",
              "    [theme=dark] .colab-df-convert:hover {\n",
              "      background-color: #434B5C;\n",
              "      box-shadow: 0px 1px 3px 1px rgba(0, 0, 0, 0.15);\n",
              "      filter: drop-shadow(0px 1px 2px rgba(0, 0, 0, 0.3));\n",
              "      fill: #FFFFFF;\n",
              "    }\n",
              "  </style>\n",
              "\n",
              "    <script>\n",
              "      const buttonEl =\n",
              "        document.querySelector('#df-7c519795-653c-4991-9d56-7cdfe91bdede button.colab-df-convert');\n",
              "      buttonEl.style.display =\n",
              "        google.colab.kernel.accessAllowed ? 'block' : 'none';\n",
              "\n",
              "      async function convertToInteractive(key) {\n",
              "        const element = document.querySelector('#df-7c519795-653c-4991-9d56-7cdfe91bdede');\n",
              "        const dataTable =\n",
              "          await google.colab.kernel.invokeFunction('convertToInteractive',\n",
              "                                                    [key], {});\n",
              "        if (!dataTable) return;\n",
              "\n",
              "        const docLinkHtml = 'Like what you see? Visit the ' +\n",
              "          '<a target=\"_blank\" href=https://colab.research.google.com/notebooks/data_table.ipynb>data table notebook</a>'\n",
              "          + ' to learn more about interactive tables.';\n",
              "        element.innerHTML = '';\n",
              "        dataTable['output_type'] = 'display_data';\n",
              "        await google.colab.output.renderOutput(dataTable, element);\n",
              "        const docLink = document.createElement('div');\n",
              "        docLink.innerHTML = docLinkHtml;\n",
              "        element.appendChild(docLink);\n",
              "      }\n",
              "    </script>\n",
              "  </div>\n",
              "\n",
              "\n",
              "<div id=\"df-411be823-fcbf-4771-899c-2e5abf604312\">\n",
              "  <button class=\"colab-df-quickchart\" onclick=\"quickchart('df-411be823-fcbf-4771-899c-2e5abf604312')\"\n",
              "            title=\"Suggest charts.\"\n",
              "            style=\"display:none;\">\n",
              "\n",
              "<svg xmlns=\"http://www.w3.org/2000/svg\" height=\"24px\"viewBox=\"0 0 24 24\"\n",
              "     width=\"24px\">\n",
              "    <g>\n",
              "        <path d=\"M19 3H5c-1.1 0-2 .9-2 2v14c0 1.1.9 2 2 2h14c1.1 0 2-.9 2-2V5c0-1.1-.9-2-2-2zM9 17H7v-7h2v7zm4 0h-2V7h2v10zm4 0h-2v-4h2v4z\"/>\n",
              "    </g>\n",
              "</svg>\n",
              "  </button>\n",
              "\n",
              "<style>\n",
              "  .colab-df-quickchart {\n",
              "      --bg-color: #E8F0FE;\n",
              "      --fill-color: #1967D2;\n",
              "      --hover-bg-color: #E2EBFA;\n",
              "      --hover-fill-color: #174EA6;\n",
              "      --disabled-fill-color: #AAA;\n",
              "      --disabled-bg-color: #DDD;\n",
              "  }\n",
              "\n",
              "  [theme=dark] .colab-df-quickchart {\n",
              "      --bg-color: #3B4455;\n",
              "      --fill-color: #D2E3FC;\n",
              "      --hover-bg-color: #434B5C;\n",
              "      --hover-fill-color: #FFFFFF;\n",
              "      --disabled-bg-color: #3B4455;\n",
              "      --disabled-fill-color: #666;\n",
              "  }\n",
              "\n",
              "  .colab-df-quickchart {\n",
              "    background-color: var(--bg-color);\n",
              "    border: none;\n",
              "    border-radius: 50%;\n",
              "    cursor: pointer;\n",
              "    display: none;\n",
              "    fill: var(--fill-color);\n",
              "    height: 32px;\n",
              "    padding: 0;\n",
              "    width: 32px;\n",
              "  }\n",
              "\n",
              "  .colab-df-quickchart:hover {\n",
              "    background-color: var(--hover-bg-color);\n",
              "    box-shadow: 0 1px 2px rgba(60, 64, 67, 0.3), 0 1px 3px 1px rgba(60, 64, 67, 0.15);\n",
              "    fill: var(--button-hover-fill-color);\n",
              "  }\n",
              "\n",
              "  .colab-df-quickchart-complete:disabled,\n",
              "  .colab-df-quickchart-complete:disabled:hover {\n",
              "    background-color: var(--disabled-bg-color);\n",
              "    fill: var(--disabled-fill-color);\n",
              "    box-shadow: none;\n",
              "  }\n",
              "\n",
              "  .colab-df-spinner {\n",
              "    border: 2px solid var(--fill-color);\n",
              "    border-color: transparent;\n",
              "    border-bottom-color: var(--fill-color);\n",
              "    animation:\n",
              "      spin 1s steps(1) infinite;\n",
              "  }\n",
              "\n",
              "  @keyframes spin {\n",
              "    0% {\n",
              "      border-color: transparent;\n",
              "      border-bottom-color: var(--fill-color);\n",
              "      border-left-color: var(--fill-color);\n",
              "    }\n",
              "    20% {\n",
              "      border-color: transparent;\n",
              "      border-left-color: var(--fill-color);\n",
              "      border-top-color: var(--fill-color);\n",
              "    }\n",
              "    30% {\n",
              "      border-color: transparent;\n",
              "      border-left-color: var(--fill-color);\n",
              "      border-top-color: var(--fill-color);\n",
              "      border-right-color: var(--fill-color);\n",
              "    }\n",
              "    40% {\n",
              "      border-color: transparent;\n",
              "      border-right-color: var(--fill-color);\n",
              "      border-top-color: var(--fill-color);\n",
              "    }\n",
              "    60% {\n",
              "      border-color: transparent;\n",
              "      border-right-color: var(--fill-color);\n",
              "    }\n",
              "    80% {\n",
              "      border-color: transparent;\n",
              "      border-right-color: var(--fill-color);\n",
              "      border-bottom-color: var(--fill-color);\n",
              "    }\n",
              "    90% {\n",
              "      border-color: transparent;\n",
              "      border-bottom-color: var(--fill-color);\n",
              "    }\n",
              "  }\n",
              "</style>\n",
              "\n",
              "  <script>\n",
              "    async function quickchart(key) {\n",
              "      const quickchartButtonEl =\n",
              "        document.querySelector('#' + key + ' button');\n",
              "      quickchartButtonEl.disabled = true;  // To prevent multiple clicks.\n",
              "      quickchartButtonEl.classList.add('colab-df-spinner');\n",
              "      try {\n",
              "        const charts = await google.colab.kernel.invokeFunction(\n",
              "            'suggestCharts', [key], {});\n",
              "      } catch (error) {\n",
              "        console.error('Error during call to suggestCharts:', error);\n",
              "      }\n",
              "      quickchartButtonEl.classList.remove('colab-df-spinner');\n",
              "      quickchartButtonEl.classList.add('colab-df-quickchart-complete');\n",
              "    }\n",
              "    (() => {\n",
              "      let quickchartButtonEl =\n",
              "        document.querySelector('#df-411be823-fcbf-4771-899c-2e5abf604312 button');\n",
              "      quickchartButtonEl.style.display =\n",
              "        google.colab.kernel.accessAllowed ? 'block' : 'none';\n",
              "    })();\n",
              "  </script>\n",
              "</div>\n",
              "    </div>\n",
              "  </div>\n"
            ]
          },
          "metadata": {},
          "execution_count": 25
        }
      ]
    },
    {
      "cell_type": "markdown",
      "source": [
        "Vamos descobrir a quantidade de pessoas com filhos e sem filhos no nosso conjunto de dados:"
      ],
      "metadata": {
        "id": "9EQBCoXOFOzD"
      }
    },
    {
      "cell_type": "code",
      "source": [
        "# Contando a frequência de cada valor na coluna \"grupo_filhos\"\n",
        "contagem_filhos = df['grupo_filhos'].value_counts()\n",
        "\n",
        "# Exibindo a contagem de pessoas com e sem filhos\n",
        "print('Quantidade de pessoas COM filhos:', contagem_filhos['yes'])  # Pessoas com filhos\n",
        "print('Quantidade de pessoas SEM filhos:', contagem_filhos['no'])  # Pessoas sem filhos"
      ],
      "metadata": {
        "id": "FcIpMjPy8-UP",
        "colab": {
          "base_uri": "https://localhost:8080/"
        },
        "outputId": "ed09301f-05f0-41a2-9164-4d626f2dda35"
      },
      "execution_count": null,
      "outputs": [
        {
          "output_type": "stream",
          "name": "stdout",
          "text": [
            "Quantidade de pessoas COM filhos: 1454\n",
            "Quantidade de pessoas SEM filhos: 567\n"
          ]
        }
      ]
    },
    {
      "cell_type": "markdown",
      "source": [
        "Descobrindo o valor médio de gastos na plataforma de pessoas sem filhos e pessoas com filhos:"
      ],
      "metadata": {
        "id": "3QBkzz7DLZk2"
      }
    },
    {
      "cell_type": "code",
      "source": [
        "# Agrupando por grupo_filhos e calculando a média de expenses\n",
        "media_gastos = df.groupby('grupo_filhos')['expenses'].mean()\n",
        "\n",
        "# Exibindo a média de gastos para pessoas sem filhos (grupo_filhos = no) e com filhos (grupo_filhos = yes)\n",
        "print('Média de gastos para pessoas SEM filhos:')\n",
        "print(media_gastos['no'])  # Média para pessoas sem filhos\n",
        "\n",
        "print('Média de gastos para pessoas COM filhos:')\n",
        "print(media_gastos['yes'])  # Média para pessoas com filhos\n"
      ],
      "metadata": {
        "id": "P8WodTPm_sVE",
        "colab": {
          "base_uri": "https://localhost:8080/"
        },
        "outputId": "47b43d0b-8077-4a4a-f87e-fa5c0c47e593"
      },
      "execution_count": null,
      "outputs": [
        {
          "output_type": "stream",
          "name": "stdout",
          "text": [
            "Média de gastos para pessoas SEM filhos:\n",
            "1056.2821869488537\n",
            "Média de gastos para pessoas COM filhos:\n",
            "371.7372764786795\n"
          ]
        }
      ]
    },
    {
      "cell_type": "code",
      "source": [
        "# boxplot dos valores gastos por pessoas com e sem filhos\n",
        "sns.boxplot(x= df['grupo_filhos'], y= df['expenses'])\n",
        "plt.title('Valores gastos por pessoas com e sem filhos')\n",
        "plt.show()\n"
      ],
      "metadata": {
        "id": "2g8PZlEIA2bI",
        "colab": {
          "base_uri": "https://localhost:8080/",
          "height": 472
        },
        "outputId": "edb454fb-4339-4446-8ed0-6812120ccd2e"
      },
      "execution_count": null,
      "outputs": [
        {
          "output_type": "display_data",
          "data": {
            "text/plain": [
              "<Figure size 640x480 with 1 Axes>"
            ],
            "image/png": "[encoded data removed]"
          },
          "metadata": {}
        }
      ]
    },
    {
      "cell_type": "markdown",
      "source": [
        "Mesmo com os valores das médias tão diferentes, vemos que alguns valores estão se sobrepondos nos nossos boxplots. Vemos também uma quantidade relativamente grande de outlier no grupo de pessoas com filhos. Portanto, vamos realizar um teste de hipótese para comprovar a diferença entre as médias."
      ],
      "metadata": {
        "id": "T5Qt9zZoAmsW"
      }
    },
    {
      "cell_type": "markdown",
      "source": [
        "**Teste t para média de amostras independentes**"
      ],
      "metadata": {
        "id": "wvbAmO8SMT12"
      }
    },
    {
      "cell_type": "code",
      "source": [
        "# HO: média de no = média de yes\n",
        "# HA: média de no != média de yes\n",
        "# alpha = 0,05\n",
        "\n",
        "from scipy.stats import ttest_ind"
      ],
      "metadata": {
        "id": "2w11aQPcDgXX"
      },
      "execution_count": null,
      "outputs": []
    },
    {
      "cell_type": "code",
      "source": [
        "com_filhos = df[df['grupo_filhos'] == 'yes']['expenses']\n",
        "sem_filhos = df[df['grupo_filhos'] == 'no']['expenses']\n",
        "ttest_ind(com_filhos, sem_filhos)\n"
      ],
      "metadata": {
        "id": "Z5sx9NTSD6hD",
        "colab": {
          "base_uri": "https://localhost:8080/"
        },
        "outputId": "7385ce08-2d8b-42ab-c788-5fe635e67846"
      },
      "execution_count": null,
      "outputs": [
        {
          "output_type": "execute_result",
          "data": {
            "text/plain": [
              "TtestResult(statistic=-28.330924413063926, pvalue=5.960960308676077e-149, df=2019.0)"
            ]
          },
          "metadata": {},
          "execution_count": 30
        }
      ]
    },
    {
      "cell_type": "markdown",
      "source": [
        "Com o p-valor muito abaixo do nível de significância, podemos afirmar com 95% de confiança que as médias de gastos de pessoas sem filhos e pessoas com filhos são diferentes."
      ],
      "metadata": {
        "id": "BTgcmDDHGNlZ"
      }
    },
    {
      "cell_type": "markdown",
      "source": [
        "### 2. Comparação entre os grupos de pessoas com filhos:"
      ],
      "metadata": {
        "id": "dreOvwtLGhLW"
      }
    },
    {
      "cell_type": "markdown",
      "source": [
        "A pedido do time de marketing, vamos verificar se há diferenças de gastos (expenses) em quem tem 1, 2, 3 ou mais filhos para que eles possam afunilar mais ainda a campanha."
      ],
      "metadata": {
        "id": "9ABRHWNgO90S"
      }
    },
    {
      "cell_type": "code",
      "source": [
        "# Conferindo quantas amostras temos em cada grupo:\n",
        "df.kids.value_counts()"
      ],
      "metadata": {
        "colab": {
          "base_uri": "https://localhost:8080/"
        },
        "id": "zvm-C_CLVISb",
        "outputId": "c09fe78b-59c4-4dd1-c9b2-2b2abd5f13d5"
      },
      "execution_count": null,
      "outputs": [
        {
          "output_type": "execute_result",
          "data": {
            "text/plain": [
              "1    1027\n",
              "0     567\n",
              "2     382\n",
              "3      45\n",
              "Name: kids, dtype: int64"
            ]
          },
          "metadata": {},
          "execution_count": 31
        }
      ]
    },
    {
      "cell_type": "code",
      "source": [
        "# Agrupando por quantidade de filhos e calculando a média de expenses\n",
        "media_gastos_filhos = df.groupby('kids')['expenses'].mean()\n",
        "\n",
        "# Exibindo a média de gastos para pessoas com 1, 2 e 3 filhos\n",
        "print('Média de gastos para pessoas com 1 filho:')\n",
        "print(media_gastos_filhos[1])\n",
        "\n",
        "print('Média de gastos para pessoas com 2 filhos:')\n",
        "print(media_gastos_filhos[2])\n",
        "\n",
        "print('Média de gastos para pessoas com 3 filhos:')\n",
        "print(media_gastos_filhos[3])\n"
      ],
      "metadata": {
        "id": "URHSxzZTIc11",
        "colab": {
          "base_uri": "https://localhost:8080/"
        },
        "outputId": "ad3a7afe-be9e-4174-bbc6-b3c43eeb7e23"
      },
      "execution_count": null,
      "outputs": [
        {
          "output_type": "stream",
          "name": "stdout",
          "text": [
            "Média de gastos para pessoas com 1 filho:\n",
            "432.73222979552094\n",
            "Média de gastos para pessoas com 2 filhos:\n",
            "223.2670157068063\n",
            "Média de gastos para pessoas com 3 filhos:\n",
            "240.04444444444445\n"
          ]
        }
      ]
    },
    {
      "cell_type": "markdown",
      "source": [
        "Aqui vemos a média de gastos de pessoas com 2 e 3 filhos bem próximas, enquanto a média de gastos para pessoas com 1 filho é aparentemente bem maior. Vamos realizar o teste de hipótese para saber se as médias realmente são diferentes. Como temos 3 variáveis, podemos usar a ANOVA de Welch para descobrirmos se estatisticamente essas médias são iguais.\n"
      ],
      "metadata": {
        "id": "VJ87uhJPL6wU"
      }
    },
    {
      "cell_type": "markdown",
      "source": [
        "\n",
        "### Realizando o teste da ANOVA de Welch:"
      ],
      "metadata": {
        "id": "-H8srqTWS8iu"
      }
    },
    {
      "cell_type": "code",
      "source": [
        "# HO: as médias de gastos de 1,2 e 3 filhos são igual\n",
        "# HA: pelo menos uma média de gastos é diferente\n",
        "# alpha = 0,05\n",
        "\n",
        "# instalando e importando o pacote pingouin\n",
        "!pip install pingouin -q\n",
        "import pingouin as pg"
      ],
      "metadata": {
        "id": "Wj3OXYHtMDkA"
      },
      "execution_count": null,
      "outputs": []
    },
    {
      "cell_type": "code",
      "source": [
        "# criando um dataframe apenas com as pessoas com filhos\n",
        "df_com_filhos = df[df['grupo_filhos'] == 'yes']\n",
        "pg.welch_anova(dv= 'expenses', between= 'kids', data= df_com_filhos )\n"
      ],
      "metadata": {
        "id": "nq22lAoMRwdt",
        "colab": {
          "base_uri": "https://localhost:8080/",
          "height": 81
        },
        "outputId": "230cc3c7-b32f-42cf-897a-ffb92de19c68"
      },
      "execution_count": null,
      "outputs": [
        {
          "output_type": "execute_result",
          "data": {
            "text/plain": [
              "  Source  ddof1       ddof2          F         p-unc       np2\n",
              "0   kids      2  118.556585  52.390113  4.970691e-17  0.049766"
            ],
            "text/html": [
              "\n",
              "  <div id=\"df-2eac2116-44e8-4806-94c6-b25fc9c6a433\" class=\"colab-df-container\">\n",
              "    <div>\n",
              "<style scoped>\n",
              "    .dataframe tbody tr th:only-of-type {\n",
              "        vertical-align: middle;\n",
              "    }\n",
              "\n",
              "    .dataframe tbody tr th {\n",
              "        vertical-align: top;\n",
              "    }\n",
              "\n",
              "    .dataframe thead th {\n",
              "        text-align: right;\n",
              "    }\n",
              "</style>\n",
              "<table border=\"1\" class=\"dataframe\">\n",
              "  <thead>\n",
              "    <tr style=\"text-align: right;\">\n",
              "      <th></th>\n",
              "      <th>Source</th>\n",
              "      <th>ddof1</th>\n",
              "      <th>ddof2</th>\n",
              "      <th>F</th>\n",
              "      <th>p-unc</th>\n",
              "      <th>np2</th>\n",
              "    </tr>\n",
              "  </thead>\n",
              "  <tbody>\n",
              "    <tr>\n",
              "      <th>0</th>\n",
              "      <td>kids</td>\n",
              "      <td>2</td>\n",
              "      <td>118.556585</td>\n",
              "      <td>52.390113</td>\n",
              "      <td>4.970691e-17</td>\n",
              "      <td>0.049766</td>\n",
              "    </tr>\n",
              "  </tbody>\n",
              "</table>\n",
              "</div>\n",
              "    <div class=\"colab-df-buttons\">\n",
              "\n",
              "  <div class=\"colab-df-container\">\n",
              "    <button class=\"colab-df-convert\" onclick=\"convertToInteractive('df-2eac2116-44e8-4806-94c6-b25fc9c6a433')\"\n",
              "            title=\"Convert this dataframe to an interactive table.\"\n",
              "            style=\"display:none;\">\n",
              "\n",
              "  <svg xmlns=\"http://www.w3.org/2000/svg\" height=\"24px\" viewBox=\"0 -960 960 960\">\n",
              "    <path d=\"M120-120v-720h720v720H120Zm60-500h600v-160H180v160Zm220 220h160v-160H400v160Zm0 220h160v-160H400v160ZM180-400h160v-160H180v160Zm440 0h160v-160H620v160ZM180-180h160v-160H180v160Zm440 0h160v-160H620v160Z\"/>\n",
              "  </svg>\n",
              "    </button>\n",
              "\n",
              "  <style>\n",
              "    .colab-df-container {\n",
              "      display:flex;\n",
              "      gap: 12px;\n",
              "    }\n",
              "\n",
              "    .colab-df-convert {\n",
              "      background-color: #E8F0FE;\n",
              "      border: none;\n",
              "      border-radius: 50%;\n",
              "      cursor: pointer;\n",
              "      display: none;\n",
              "      fill: #1967D2;\n",
              "      height: 32px;\n",
              "      padding: 0 0 0 0;\n",
              "      width: 32px;\n",
              "    }\n",
              "\n",
              "    .colab-df-convert:hover {\n",
              "      background-color: #E2EBFA;\n",
              "      box-shadow: 0px 1px 2px rgba(60, 64, 67, 0.3), 0px 1px 3px 1px rgba(60, 64, 67, 0.15);\n",
              "      fill: #174EA6;\n",
              "    }\n",
              "\n",
              "    .colab-df-buttons div {\n",
              "      margin-bottom: 4px;\n",
              "    }\n",
              "\n",
              "    [theme=dark] .colab-df-convert {\n",
              "      background-color: #3B4455;\n",
              "      fill: #D2E3FC;\n",
              "    }\n",
              "\n",
              "    [theme=dark] .colab-df-convert:hover {\n",
              "      background-color: #434B5C;\n",
              "      box-shadow: 0px 1px 3px 1px rgba(0, 0, 0, 0.15);\n",
              "      filter: drop-shadow(0px 1px 2px rgba(0, 0, 0, 0.3));\n",
              "      fill: #FFFFFF;\n",
              "    }\n",
              "  </style>\n",
              "\n",
              "    <script>\n",
              "      const buttonEl =\n",
              "        document.querySelector('#df-2eac2116-44e8-4806-94c6-b25fc9c6a433 button.colab-df-convert');\n",
              "      buttonEl.style.display =\n",
              "        google.colab.kernel.accessAllowed ? 'block' : 'none';\n",
              "\n",
              "      async function convertToInteractive(key) {\n",
              "        const element = document.querySelector('#df-2eac2116-44e8-4806-94c6-b25fc9c6a433');\n",
              "        const dataTable =\n",
              "          await google.colab.kernel.invokeFunction('convertToInteractive',\n",
              "                                                    [key], {});\n",
              "        if (!dataTable) return;\n",
              "\n",
              "        const docLinkHtml = 'Like what you see? Visit the ' +\n",
              "          '<a target=\"_blank\" href=https://colab.research.google.com/notebooks/data_table.ipynb>data table notebook</a>'\n",
              "          + ' to learn more about interactive tables.';\n",
              "        element.innerHTML = '';\n",
              "        dataTable['output_type'] = 'display_data';\n",
              "        await google.colab.output.renderOutput(dataTable, element);\n",
              "        const docLink = document.createElement('div');\n",
              "        docLink.innerHTML = docLinkHtml;\n",
              "        element.appendChild(docLink);\n",
              "      }\n",
              "    </script>\n",
              "  </div>\n",
              "\n",
              "    </div>\n",
              "  </div>\n"
            ]
          },
          "metadata": {},
          "execution_count": 34
        }
      ]
    },
    {
      "cell_type": "markdown",
      "source": [
        "O teste retornou um objeto com os resultados da ANOVA de Welch, incluindo a estatística F, e o p-valor. Com o p-valor muito abaixo do nível de significância, podemos afirmar com 95% de confiança que pelo menos uma das médias é diferente das demais."
      ],
      "metadata": {
        "id": "0jQulMddMo2p"
      }
    },
    {
      "cell_type": "markdown",
      "source": [
        "### Post Hoc\n",
        "Para descobrir qual das médias é a diferente, utilizaremos um teste Post Hoc. O teste post-hoc de Games-Howell é outra abordagem não paramétrica para comparar combinações de grupos ou tratamentos. O teste de Games-Howell não assume variâncias, tamanhos amostrais iguais e nem amostras normais."
      ],
      "metadata": {
        "id": "IplQUf8HWcxq"
      }
    },
    {
      "cell_type": "code",
      "source": [
        "pg.pairwise_gameshowell(dv='expenses', between='kids', data= df_com_filhos)"
      ],
      "metadata": {
        "id": "etH6aqnahcFw",
        "colab": {
          "base_uri": "https://localhost:8080/",
          "height": 143
        },
        "outputId": "f1da958e-d5d8-473c-ae37-ea7991c037bc"
      },
      "execution_count": null,
      "outputs": [
        {
          "output_type": "execute_result",
          "data": {
            "text/plain": [
              "   A  B     mean(A)     mean(B)        diff         se          T  \\\n",
              "0  1  2  432.732230  223.267016  209.465214  20.643062  10.147003   \n",
              "1  1  3  432.732230  240.044444  192.687785  62.370624   3.089400   \n",
              "2  2  3  223.267016  240.044444  -16.777429  62.620637  -0.267922   \n",
              "\n",
              "            df      pval    hedges  \n",
              "0  1036.085907  0.000000  0.505500  \n",
              "1    48.825102  0.009111  0.429201  \n",
              "2    49.596797  0.961234 -0.054189  "
            ],
            "text/html": [
              "\n",
              "  <div id=\"df-336f096a-1a52-4a8e-bf53-b7ce3a7925fd\" class=\"colab-df-container\">\n",
              "    <div>\n",
              "<style scoped>\n",
              "    .dataframe tbody tr th:only-of-type {\n",
              "        vertical-align: middle;\n",
              "    }\n",
              "\n",
              "    .dataframe tbody tr th {\n",
              "        vertical-align: top;\n",
              "    }\n",
              "\n",
              "    .dataframe thead th {\n",
              "        text-align: right;\n",
              "    }\n",
              "</style>\n",
              "<table border=\"1\" class=\"dataframe\">\n",
              "  <thead>\n",
              "    <tr style=\"text-align: right;\">\n",
              "      <th></th>\n",
              "      <th>A</th>\n",
              "      <th>B</th>\n",
              "      <th>mean(A)</th>\n",
              "      <th>mean(B)</th>\n",
              "      <th>diff</th>\n",
              "      <th>se</th>\n",
              "      <th>T</th>\n",
              "      <th>df</th>\n",
              "      <th>pval</th>\n",
              "      <th>hedges</th>\n",
              "    </tr>\n",
              "  </thead>\n",
              "  <tbody>\n",
              "    <tr>\n",
              "      <th>0</th>\n",
              "      <td>1</td>\n",
              "      <td>2</td>\n",
              "      <td>432.732230</td>\n",
              "      <td>223.267016</td>\n",
              "      <td>209.465214</td>\n",
              "      <td>20.643062</td>\n",
              "      <td>10.147003</td>\n",
              "      <td>1036.085907</td>\n",
              "      <td>0.000000</td>\n",
              "      <td>0.505500</td>\n",
              "    </tr>\n",
              "    <tr>\n",
              "      <th>1</th>\n",
              "      <td>1</td>\n",
              "      <td>3</td>\n",
              "      <td>432.732230</td>\n",
              "      <td>240.044444</td>\n",
              "      <td>192.687785</td>\n",
              "      <td>62.370624</td>\n",
              "      <td>3.089400</td>\n",
              "      <td>48.825102</td>\n",
              "      <td>0.009111</td>\n",
              "      <td>0.429201</td>\n",
              "    </tr>\n",
              "    <tr>\n",
              "      <th>2</th>\n",
              "      <td>2</td>\n",
              "      <td>3</td>\n",
              "      <td>223.267016</td>\n",
              "      <td>240.044444</td>\n",
              "      <td>-16.777429</td>\n",
              "      <td>62.620637</td>\n",
              "      <td>-0.267922</td>\n",
              "      <td>49.596797</td>\n",
              "      <td>0.961234</td>\n",
              "      <td>-0.054189</td>\n",
              "    </tr>\n",
              "  </tbody>\n",
              "</table>\n",
              "</div>\n",
              "    <div class=\"colab-df-buttons\">\n",
              "\n",
              "  <div class=\"colab-df-container\">\n",
              "    <button class=\"colab-df-convert\" onclick=\"convertToInteractive('df-336f096a-1a52-4a8e-bf53-b7ce3a7925fd')\"\n",
              "            title=\"Convert this dataframe to an interactive table.\"\n",
              "            style=\"display:none;\">\n",
              "\n",
              "  <svg xmlns=\"http://www.w3.org/2000/svg\" height=\"24px\" viewBox=\"0 -960 960 960\">\n",
              "    <path d=\"M120-120v-720h720v720H120Zm60-500h600v-160H180v160Zm220 220h160v-160H400v160Zm0 220h160v-160H400v160ZM180-400h160v-160H180v160Zm440 0h160v-160H620v160ZM180-180h160v-160H180v160Zm440 0h160v-160H620v160Z\"/>\n",
              "  </svg>\n",
              "    </button>\n",
              "\n",
              "  <style>\n",
              "    .colab-df-container {\n",
              "      display:flex;\n",
              "      gap: 12px;\n",
              "    }\n",
              "\n",
              "    .colab-df-convert {\n",
              "      background-color: #E8F0FE;\n",
              "      border: none;\n",
              "      border-radius: 50%;\n",
              "      cursor: pointer;\n",
              "      display: none;\n",
              "      fill: #1967D2;\n",
              "      height: 32px;\n",
              "      padding: 0 0 0 0;\n",
              "      width: 32px;\n",
              "    }\n",
              "\n",
              "    .colab-df-convert:hover {\n",
              "      background-color: #E2EBFA;\n",
              "      box-shadow: 0px 1px 2px rgba(60, 64, 67, 0.3), 0px 1px 3px 1px rgba(60, 64, 67, 0.15);\n",
              "      fill: #174EA6;\n",
              "    }\n",
              "\n",
              "    .colab-df-buttons div {\n",
              "      margin-bottom: 4px;\n",
              "    }\n",
              "\n",
              "    [theme=dark] .colab-df-convert {\n",
              "      background-color: #3B4455;\n",
              "      fill: #D2E3FC;\n",
              "    }\n",
              "\n",
              "    [theme=dark] .colab-df-convert:hover {\n",
              "      background-color: #434B5C;\n",
              "      box-shadow: 0px 1px 3px 1px rgba(0, 0, 0, 0.15);\n",
              "      filter: drop-shadow(0px 1px 2px rgba(0, 0, 0, 0.3));\n",
              "      fill: #FFFFFF;\n",
              "    }\n",
              "  </style>\n",
              "\n",
              "    <script>\n",
              "      const buttonEl =\n",
              "        document.querySelector('#df-336f096a-1a52-4a8e-bf53-b7ce3a7925fd button.colab-df-convert');\n",
              "      buttonEl.style.display =\n",
              "        google.colab.kernel.accessAllowed ? 'block' : 'none';\n",
              "\n",
              "      async function convertToInteractive(key) {\n",
              "        const element = document.querySelector('#df-336f096a-1a52-4a8e-bf53-b7ce3a7925fd');\n",
              "        const dataTable =\n",
              "          await google.colab.kernel.invokeFunction('convertToInteractive',\n",
              "                                                    [key], {});\n",
              "        if (!dataTable) return;\n",
              "\n",
              "        const docLinkHtml = 'Like what you see? Visit the ' +\n",
              "          '<a target=\"_blank\" href=https://colab.research.google.com/notebooks/data_table.ipynb>data table notebook</a>'\n",
              "          + ' to learn more about interactive tables.';\n",
              "        element.innerHTML = '';\n",
              "        dataTable['output_type'] = 'display_data';\n",
              "        await google.colab.output.renderOutput(dataTable, element);\n",
              "        const docLink = document.createElement('div');\n",
              "        docLink.innerHTML = docLinkHtml;\n",
              "        element.appendChild(docLink);\n",
              "      }\n",
              "    </script>\n",
              "  </div>\n",
              "\n",
              "\n",
              "<div id=\"df-a57f29a3-8caa-4eea-a293-837d9308854d\">\n",
              "  <button class=\"colab-df-quickchart\" onclick=\"quickchart('df-a57f29a3-8caa-4eea-a293-837d9308854d')\"\n",
              "            title=\"Suggest charts.\"\n",
              "            style=\"display:none;\">\n",
              "\n",
              "<svg xmlns=\"http://www.w3.org/2000/svg\" height=\"24px\"viewBox=\"0 0 24 24\"\n",
              "     width=\"24px\">\n",
              "    <g>\n",
              "        <path d=\"M19 3H5c-1.1 0-2 .9-2 2v14c0 1.1.9 2 2 2h14c1.1 0 2-.9 2-2V5c0-1.1-.9-2-2-2zM9 17H7v-7h2v7zm4 0h-2V7h2v10zm4 0h-2v-4h2v4z\"/>\n",
              "    </g>\n",
              "</svg>\n",
              "  </button>\n",
              "\n",
              "<style>\n",
              "  .colab-df-quickchart {\n",
              "      --bg-color: #E8F0FE;\n",
              "      --fill-color: #1967D2;\n",
              "      --hover-bg-color: #E2EBFA;\n",
              "      --hover-fill-color: #174EA6;\n",
              "      --disabled-fill-color: #AAA;\n",
              "      --disabled-bg-color: #DDD;\n",
              "  }\n",
              "\n",
              "  [theme=dark] .colab-df-quickchart {\n",
              "      --bg-color: #3B4455;\n",
              "      --fill-color: #D2E3FC;\n",
              "      --hover-bg-color: #434B5C;\n",
              "      --hover-fill-color: #FFFFFF;\n",
              "      --disabled-bg-color: #3B4455;\n",
              "      --disabled-fill-color: #666;\n",
              "  }\n",
              "\n",
              "  .colab-df-quickchart {\n",
              "    background-color: var(--bg-color);\n",
              "    border: none;\n",
              "    border-radius: 50%;\n",
              "    cursor: pointer;\n",
              "    display: none;\n",
              "    fill: var(--fill-color);\n",
              "    height: 32px;\n",
              "    padding: 0;\n",
              "    width: 32px;\n",
              "  }\n",
              "\n",
              "  .colab-df-quickchart:hover {\n",
              "    background-color: var(--hover-bg-color);\n",
              "    box-shadow: 0 1px 2px rgba(60, 64, 67, 0.3), 0 1px 3px 1px rgba(60, 64, 67, 0.15);\n",
              "    fill: var(--button-hover-fill-color);\n",
              "  }\n",
              "\n",
              "  .colab-df-quickchart-complete:disabled,\n",
              "  .colab-df-quickchart-complete:disabled:hover {\n",
              "    background-color: var(--disabled-bg-color);\n",
              "    fill: var(--disabled-fill-color);\n",
              "    box-shadow: none;\n",
              "  }\n",
              "\n",
              "  .colab-df-spinner {\n",
              "    border: 2px solid var(--fill-color);\n",
              "    border-color: transparent;\n",
              "    border-bottom-color: var(--fill-color);\n",
              "    animation:\n",
              "      spin 1s steps(1) infinite;\n",
              "  }\n",
              "\n",
              "  @keyframes spin {\n",
              "    0% {\n",
              "      border-color: transparent;\n",
              "      border-bottom-color: var(--fill-color);\n",
              "      border-left-color: var(--fill-color);\n",
              "    }\n",
              "    20% {\n",
              "      border-color: transparent;\n",
              "      border-left-color: var(--fill-color);\n",
              "      border-top-color: var(--fill-color);\n",
              "    }\n",
              "    30% {\n",
              "      border-color: transparent;\n",
              "      border-left-color: var(--fill-color);\n",
              "      border-top-color: var(--fill-color);\n",
              "      border-right-color: var(--fill-color);\n",
              "    }\n",
              "    40% {\n",
              "      border-color: transparent;\n",
              "      border-right-color: var(--fill-color);\n",
              "      border-top-color: var(--fill-color);\n",
              "    }\n",
              "    60% {\n",
              "      border-color: transparent;\n",
              "      border-right-color: var(--fill-color);\n",
              "    }\n",
              "    80% {\n",
              "      border-color: transparent;\n",
              "      border-right-color: var(--fill-color);\n",
              "      border-bottom-color: var(--fill-color);\n",
              "    }\n",
              "    90% {\n",
              "      border-color: transparent;\n",
              "      border-bottom-color: var(--fill-color);\n",
              "    }\n",
              "  }\n",
              "</style>\n",
              "\n",
              "  <script>\n",
              "    async function quickchart(key) {\n",
              "      const quickchartButtonEl =\n",
              "        document.querySelector('#' + key + ' button');\n",
              "      quickchartButtonEl.disabled = true;  // To prevent multiple clicks.\n",
              "      quickchartButtonEl.classList.add('colab-df-spinner');\n",
              "      try {\n",
              "        const charts = await google.colab.kernel.invokeFunction(\n",
              "            'suggestCharts', [key], {});\n",
              "      } catch (error) {\n",
              "        console.error('Error during call to suggestCharts:', error);\n",
              "      }\n",
              "      quickchartButtonEl.classList.remove('colab-df-spinner');\n",
              "      quickchartButtonEl.classList.add('colab-df-quickchart-complete');\n",
              "    }\n",
              "    (() => {\n",
              "      let quickchartButtonEl =\n",
              "        document.querySelector('#df-a57f29a3-8caa-4eea-a293-837d9308854d button');\n",
              "      quickchartButtonEl.style.display =\n",
              "        google.colab.kernel.accessAllowed ? 'block' : 'none';\n",
              "    })();\n",
              "  </script>\n",
              "</div>\n",
              "    </div>\n",
              "  </div>\n"
            ]
          },
          "metadata": {},
          "execution_count": 45
        }
      ]
    },
    {
      "cell_type": "markdown",
      "source": [
        "Quando o p-valor for maior que 0,05 não rejeitamos a hipótese nula e dizemos que as médias são estatisticamente igual. Comparando os pares, vimos que:\n",
        "- Média grupo 1 e média grupo 2 são diferentes.\n",
        "- Média grupo 1 e média grupo 3 são diferentes.\n",
        "- Média grupo 2 e média grupo 3 são iguais.\n",
        "\n",
        "Se a opção da equipe de marketing for focar nos grupos com menor média de gastos, eles poderão focar tanto no grupo 2 quanto no grupo 3 ou até mesmo direcionar uma campanha em conjunto para ambos os grupos. Caso a equipe queira focar no grupo com maior média de gastos, eles devem focar no grupo com 1 filho.\n"
      ],
      "metadata": {
        "id": "dqYofwzciQTT"
      }
    },
    {
      "cell_type": "markdown",
      "source": [
        "## Clientes que reclamam na plataforma, se tornam detratores?"
      ],
      "metadata": {
        "id": "80HNkYT0issT"
      }
    },
    {
      "cell_type": "markdown",
      "source": [
        "Queremos agora saber se o fato de uma pessoa reclamar na plataforma a torna detratora (detrator aqui seria não comprar mais em nossa plataforma).\n",
        "\n",
        "A coluna que usarmos para saber se um cliente reclamou ou não na plataforma é a coluna Complain. Com base nela, veremos se o grupo de pessoas que reclamam tem menos gastos do que pessoas que não reclamam.\n",
        "\n"
      ],
      "metadata": {
        "id": "SROt4ggm984g"
      }
    },
    {
      "cell_type": "markdown",
      "source": [
        "### Analisando alguns dados sobre os grupos com reclamação e sem reclamação:"
      ],
      "metadata": {
        "id": "hLClDcPk_DoH"
      }
    },
    {
      "cell_type": "markdown",
      "source": [
        "Média de gastos dos grupos que reclamaram e que não reclamaram na plataforma."
      ],
      "metadata": {
        "id": "VSJebXVphWHx"
      }
    },
    {
      "cell_type": "code",
      "source": [
        "# média de gastos de cada grupo (0 - sem reclamação, 1 - com reclamação)\n",
        "df.groupby('Complain')['expenses'].mean()"
      ],
      "metadata": {
        "id": "AUNs-6kTi1ZM",
        "colab": {
          "base_uri": "https://localhost:8080/"
        },
        "outputId": "0b1facb1-734e-4c39-a5da-2ee4fcd479f9"
      },
      "execution_count": null,
      "outputs": [
        {
          "output_type": "execute_result",
          "data": {
            "text/plain": [
              "Complain\n",
              "0    565.523976\n",
              "1    381.000000\n",
              "Name: expenses, dtype: float64"
            ]
          },
          "metadata": {},
          "execution_count": 36
        }
      ]
    },
    {
      "cell_type": "markdown",
      "source": [
        "Quantidade de pessoas que reclamaram no site (representados pelo número 1)."
      ],
      "metadata": {
        "id": "3uYlhievlJm9"
      }
    },
    {
      "cell_type": "code",
      "source": [
        "# quantidade de pessoas que fizeram alguma reclamação\n",
        "df['Complain'].value_counts()\n"
      ],
      "metadata": {
        "colab": {
          "base_uri": "https://localhost:8080/"
        },
        "id": "kdHtgp6x__tE",
        "outputId": "74beb56f-ab51-4c1e-aac8-42d6eaac5daa"
      },
      "execution_count": null,
      "outputs": [
        {
          "output_type": "execute_result",
          "data": {
            "text/plain": [
              "0    2002\n",
              "1      19\n",
              "Name: Complain, dtype: int64"
            ]
          },
          "metadata": {},
          "execution_count": 37
        }
      ]
    },
    {
      "cell_type": "markdown",
      "source": [
        "Mediana de gastos de cada um dos dois grupos:"
      ],
      "metadata": {
        "id": "4qESgZ4ulSLZ"
      }
    },
    {
      "cell_type": "code",
      "source": [
        "df.groupby('Complain')['expenses'].median()"
      ],
      "metadata": {
        "colab": {
          "base_uri": "https://localhost:8080/"
        },
        "id": "AYnKONKyGNJc",
        "outputId": "1c7d0dcb-3e98-4541-8b71-46edebd816be"
      },
      "execution_count": null,
      "outputs": [
        {
          "output_type": "execute_result",
          "data": {
            "text/plain": [
              "Complain\n",
              "0    344.5\n",
              "1     89.0\n",
              "Name: expenses, dtype: float64"
            ]
          },
          "metadata": {},
          "execution_count": 46
        }
      ]
    },
    {
      "cell_type": "markdown",
      "source": [
        "Variância de gastos de cada grupo:"
      ],
      "metadata": {
        "id": "IHqirtrGlfcZ"
      }
    },
    {
      "cell_type": "code",
      "source": [
        "df.groupby('Complain')['expenses'].var()"
      ],
      "metadata": {
        "colab": {
          "base_uri": "https://localhost:8080/"
        },
        "id": "hqTdOGwVG0NO",
        "outputId": "4400f12d-4dfc-4a75-9cc2-46f92ae27b1f"
      },
      "execution_count": null,
      "outputs": [
        {
          "output_type": "execute_result",
          "data": {
            "text/plain": [
              "Complain\n",
              "0    333853.692828\n",
              "1    183991.333333\n",
              "Name: expenses, dtype: float64"
            ]
          },
          "metadata": {},
          "execution_count": 50
        }
      ]
    },
    {
      "cell_type": "markdown",
      "source": [
        "Vamos iniciar nossos testes de hipóteses utilizando o teste t (teste paramétrico). Aqui estamos no limite do tamanho mínimo para que possamos assumir a normalidade da distribuição das amostras do grupo dos que reclamaram. Como aparentemente as variâncias dos grupos são diferentes,  vamos realizar um teste F para confirmarmos se as variâncias são iguais ou diferentes para que possamos ou não realizar nosso teste t para amostras independentes com variâncias iguais."
      ],
      "metadata": {
        "id": "CbwSXg0SUlmU"
      }
    },
    {
      "cell_type": "markdown",
      "source": [
        "### Teste F para variância"
      ],
      "metadata": {
        "id": "ojRbYC9gtCet"
      }
    },
    {
      "cell_type": "code",
      "source": [
        "import scipy.stats\n",
        "\n",
        "# Teste f para variância\n",
        "# H0: as variâncias são iguais\n",
        "# HA: as variâncias são diferentes\n",
        "# alpha = 0,05\n",
        "\n",
        "df_no_complain = 2002 - 1 # graus de liberdade não reclamaram\n",
        "df_complain = 19 - 1 # graus de liberdade reclamaram\n",
        "F = 333853.692828 / 183991.333333\n",
        "\n",
        "#p-valor para o teste F\n",
        "1 - scipy.stats.f.cdf(F, df_no_complain, df_complain)"
      ],
      "metadata": {
        "colab": {
          "base_uri": "https://localhost:8080/"
        },
        "id": "zs99P-6TUb2Q",
        "outputId": "dcca4ada-e17f-448c-9a31-1825e85ac556"
      },
      "execution_count": null,
      "outputs": [
        {
          "output_type": "execute_result",
          "data": {
            "text/plain": [
              "0.06599439060804446"
            ]
          },
          "metadata": {},
          "execution_count": 52
        }
      ]
    },
    {
      "cell_type": "markdown",
      "source": [
        "Com o p-valor maior que o nível de significância, não rejeitamos a hipótese nulo e assumimos que a variância dos dois grupos são estatisticamente iguais.\n",
        "Dessa forma, vamos utilizar um teste t para amostras independentes com variância igual."
      ],
      "metadata": {
        "id": "9zpvMW3hoOh6"
      }
    },
    {
      "cell_type": "markdown",
      "source": [
        "### Teste t para amostras independentes (paramétrico):"
      ],
      "metadata": {
        "id": "LcSK5AaYtG83"
      }
    },
    {
      "cell_type": "code",
      "source": [
        "# HO: as médias de gastos dos grupos são iguais\n",
        "# HA: as médias de gastos dos grupos são diferentes\n",
        "# alpha = 0,05\n",
        "\n",
        "grupo_no_complain = df[df['Complain'] == 0]['expenses']\n",
        "grupo_complain = df[df['Complain'] == 1]['expenses']\n",
        "ttest_ind(grupo_no_complain, grupo_complain)"
      ],
      "metadata": {
        "colab": {
          "base_uri": "https://localhost:8080/"
        },
        "id": "M2wvS10sm15t",
        "outputId": "fc7b5a19-9e11-4c35-c8ed-b08fc93fa886"
      },
      "execution_count": null,
      "outputs": [
        {
          "output_type": "execute_result",
          "data": {
            "text/plain": [
              "TtestResult(statistic=1.3882610846748031, pvalue=0.1652107099905997, df=2019.0)"
            ]
          },
          "metadata": {},
          "execution_count": 53
        }
      ]
    },
    {
      "cell_type": "markdown",
      "source": [
        "Com o p-valor encontrado foi maior que o nível de significância, não rejeitamos a hipótese nula e dizemos que a média de gastos dos grupo que reclamaram e que não reclamaram são estatisticamente iguais.\n",
        "\n",
        "A título de comprovação, devido ao tamanho de uma das amostras não ser tão grande, vamos realizar um teste não-paramétrico também."
      ],
      "metadata": {
        "id": "V-GigAe6rpJ3"
      }
    },
    {
      "cell_type": "markdown",
      "source": [
        "### Teste de Mann-Whitney (não-paramétrico):\n",
        "\n",
        "Relembrando nossas hipóteses:\n",
        "\n",
        "HO: as médias de gastos dos grupos são iguais\n",
        "\n",
        "HA: as médias de gastos dos grupos são diferentes\n",
        "\n",
        "alpha = 0,05"
      ],
      "metadata": {
        "id": "2httnUqmuLmI"
      }
    },
    {
      "cell_type": "code",
      "source": [
        "from scipy.stats import mannwhitneyu\n",
        "mannwhitneyu(grupo_no_complain, grupo_complain)\n"
      ],
      "metadata": {
        "colab": {
          "base_uri": "https://localhost:8080/"
        },
        "id": "R09OQyrss7Dd",
        "outputId": "938dd876-7712-4230-bace-8a35684b4a9e"
      },
      "execution_count": null,
      "outputs": [
        {
          "output_type": "execute_result",
          "data": {
            "text/plain": [
              "MannwhitneyuResult(statistic=22796.5, pvalue=0.1357236125811575)"
            ]
          },
          "metadata": {},
          "execution_count": 54
        }
      ]
    },
    {
      "cell_type": "markdown",
      "source": [
        "Com o p-valor novamente maior que nosso nível de significância, não podemos rejeitar nossa hipótese nula e dizemos que a média de gastos dos grupo que reclamaram e não reclamaram são estatisticamente iguais.\n",
        "\n",
        "Com base no que vimos nos testes, não podemos afirmar que os clientes que reclamam da plataforma deixaram de consumir após a reclamação."
      ],
      "metadata": {
        "id": "5gDBJLpgvkfi"
      }
    }
  ]
}